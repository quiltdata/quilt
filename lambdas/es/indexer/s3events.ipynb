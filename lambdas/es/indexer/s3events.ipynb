{
 "cells": [
  {
   "cell_type": "code",
   "execution_count": 1,
   "metadata": {},
   "outputs": [],
   "source": [
    "import index"
   ]
  },
  {
   "cell_type": "code",
   "execution_count": 2,
   "metadata": {},
   "outputs": [],
   "source": [
    "import sys"
   ]
  },
  {
   "cell_type": "code",
   "execution_count": 3,
   "metadata": {},
   "outputs": [],
   "source": [
    "sys.path.append(\"/Users/karve/code/quilt/lambdas/es/indexer/test\")"
   ]
  },
  {
   "cell_type": "code",
   "execution_count": 4,
   "metadata": {},
   "outputs": [],
   "source": [
    "RECORDS = {\n",
    "    \"ObjectRemoved:Delete\": {\n",
    "        \"eventVersion\": \"2.1\",\n",
    "        \"eventSource\": \"aws:s3\",\n",
    "        \"awsRegion\": \"us-east-1\",\n",
    "        \"eventTime\": \"2020-05-22T00:32:20.515Z\",\n",
    "        \"eventName\": \"ObjectRemoved:Delete\",\n",
    "        \"userIdentity\": {\n",
    "            \"principalId\": \"EXAMPLE\"\n",
    "        },\n",
    "        \"requestParameters\": {\n",
    "            \"sourceIPAddress\": \"127.0.0.1\"\n",
    "        },\n",
    "        \"responseElements\": {\n",
    "            \"x-amz-request-id\": \"EXAMPLE123456789\",\n",
    "            \"x-amz-id-2\": \"EXAMPLE123/5678abcdefghijklambdaisawesome/mnopqrstuvwxyzABCDEFGH\"\n",
    "        },\n",
    "        \"s3\": {\n",
    "            \"s3SchemaVersion\": \"1.0\",\n",
    "            \"configurationId\": \"testConfigRule\",\n",
    "            \"bucket\": {\n",
    "                \"name\": \"test-bucket\",\n",
    "                \"ownerIdentity\": {\n",
    "                    \"principalId\": \"EXAMPLE\"\n",
    "                },\n",
    "                \"arn\": \"arn:aws:s3:::test-bucket\"\n",
    "            },\n",
    "            \"object\": {\n",
    "                \"key\": \"hello+world.txt\",\n",
    "                \"sequencer\": \"0A1B2C3D4E5F678901\"\n",
    "            }\n",
    "        }\n",
    "    },\n",
    "    \"ObjectCreated:Put\": {\n",
    "        \"eventVersion\": \"2.1\",\n",
    "        \"eventSource\": \"aws:s3\",\n",
    "        \"awsRegion\": \"us-east-1\",\n",
    "        \"eventTime\": \"2020-05-22T00:32:20.515Z\",\n",
    "        \"eventName\": \"ObjectCreated:Put\",\n",
    "        \"userIdentity\": {\n",
    "            \"principalId\": \"EXAMPLE\"\n",
    "        },\n",
    "        \"requestParameters\": {\n",
    "            \"sourceIPAddress\": \"127.0.0.1\"\n",
    "        },\n",
    "        \"responseElements\": {\n",
    "            \"x-amz-request-id\": \"EXAMPLE123456789\",\n",
    "            \"x-amz-id-2\": \"EXAMPLE123/5678abcdefghijklambdaisawesome/mnopqrstuvwxyzABCDEFGH\"\n",
    "        },\n",
    "        \"s3\": {\n",
    "            \"s3SchemaVersion\": \"1.0\",\n",
    "            \"configurationId\": \"testConfigRule\",\n",
    "            \"bucket\": {\n",
    "                \"name\": \"test-bucket\",\n",
    "                \"ownerIdentity\": {\n",
    "                    \"principalId\": \"EXAMPLE\"\n",
    "                },\n",
    "                \"arn\": \"arn:aws:s3:::test-bucket\"\n",
    "            },\n",
    "            \"object\": {\n",
    "                \"key\": \"hello+world.txt\",\n",
    "                \"size\": 100,\n",
    "                \"eTag\": \"123456\",\n",
    "                \"sequencer\": \"0A1B2C3D4E5F678901\"\n",
    "            }\n",
    "        }\n",
    "    },\n",
    "    # This template is based on an actual S3 event on 5-21-2020, no known docs\n",
    "    # on this particular event type\n",
    "    \"ObjectRemoved:DeleteMarkerCreated\": {\n",
    "        \"awsRegion\": \"us-east-1\",\n",
    "        \"eventName\": \"ObjectRemoved:DeleteMarkerCreated\",\n",
    "        \"eventSource\": \"aws:s3\",\n",
    "        \"eventTime\": \"2020-05-22T00:32:20.515Z\",\n",
    "        \"eventVersion\": \"2.1\",\n",
    "        \"requestParameters\": {\n",
    "            \"sourceIPAddress\": \"127.0.0.1\"\n",
    "        },\n",
    "        \"responseElements\": {\n",
    "            \"x-amz-request-id\": \"EXAMPLE123456789\",\n",
    "            \"x-amz-id-2\": \"EXAMPLE123/5678abcdefghijklambdaisawesome/mnopqrstuvwxyzABCDEFGH\"\n",
    "        },\n",
    "        \"s3\": {\n",
    "            \"bucket\": {\n",
    "                \"name\": \"test-bucket\",\n",
    "                \"ownerIdentity\": {\n",
    "                    \"principalId\": \"EXAMPLE\"\n",
    "                },\n",
    "                \"arn\": \"arn:aws:s3:::test-bucket\"\n",
    "            },\n",
    "            \"configurationId\": \"testConfigRule\",\n",
    "            \"object\": {\n",
    "                \"key\": \"hello+world.txt\",\n",
    "                \"eTag\": \"123456\",\n",
    "                \"sequencer\": \"0A1B2C3D4E5F678901\",\n",
    "                \"versionId\": \"1313131313131.Vier50HdNbi7ZirO65\"\n",
    "            },\n",
    "            \"s3SchemaVersion\": \"1.0\"\n",
    "        },\n",
    "        \"userIdentity\": {\n",
    "            \"principalId\": \"EXAMPLE\"\n",
    "        }\n",
    "    }\n",
    "}\n",
    "\n"
   ]
  },
  {
   "cell_type": "code",
   "execution_count": 5,
   "metadata": {},
   "outputs": [],
   "source": [
    "dk = RECORDS[\"ObjectRemoved:Delete\"].keys()\n",
    "pk = RECORDS[\"ObjectCreated:Put\"].keys()\n",
    "mk = RECORDS[\"ObjectRemoved:DeleteMarkerCreated\"].keys()"
   ]
  },
  {
   "cell_type": "code",
   "execution_count": 6,
   "metadata": {},
   "outputs": [],
   "source": [
    "od = RECORDS[\"ObjectRemoved:Delete\"]\n",
    "op = RECORDS[\"ObjectCreated:Put\"]\n",
    "odm = RECORDS[\"ObjectRemoved:DeleteMarkerCreated\"]"
   ]
  },
  {
   "cell_type": "code",
   "execution_count": 7,
   "metadata": {},
   "outputs": [
    {
     "data": {
      "text/plain": [
       "{'s3SchemaVersion': '1.0',\n",
       " 'configurationId': 'testConfigRule',\n",
       " 'bucket': {'name': 'test-bucket',\n",
       "  'ownerIdentity': {'principalId': 'EXAMPLE'},\n",
       "  'arn': 'arn:aws:s3:::test-bucket'},\n",
       " 'object': {'key': 'hello+world.txt', 'sequencer': '0A1B2C3D4E5F678901'}}"
      ]
     },
     "execution_count": 7,
     "metadata": {},
     "output_type": "execute_result"
    }
   ],
   "source": [
    "od['s3']"
   ]
  },
  {
   "cell_type": "code",
   "execution_count": 8,
   "metadata": {},
   "outputs": [
    {
     "data": {
      "text/plain": [
       "{'s3SchemaVersion': '1.0',\n",
       " 'configurationId': 'testConfigRule',\n",
       " 'bucket': {'name': 'test-bucket',\n",
       "  'ownerIdentity': {'principalId': 'EXAMPLE'},\n",
       "  'arn': 'arn:aws:s3:::test-bucket'},\n",
       " 'object': {'key': 'hello+world.txt',\n",
       "  'size': 100,\n",
       "  'eTag': '123456',\n",
       "  'sequencer': '0A1B2C3D4E5F678901'}}"
      ]
     },
     "execution_count": 8,
     "metadata": {},
     "output_type": "execute_result"
    }
   ],
   "source": [
    "op[\"s3\"]\n",
    "# add size and etag to s3"
   ]
  },
  {
   "cell_type": "code",
   "execution_count": 9,
   "metadata": {},
   "outputs": [
    {
     "data": {
      "text/plain": [
       "{'bucket': {'name': 'test-bucket',\n",
       "  'ownerIdentity': {'principalId': 'EXAMPLE'},\n",
       "  'arn': 'arn:aws:s3:::test-bucket'},\n",
       " 'configurationId': 'testConfigRule',\n",
       " 'object': {'key': 'hello+world.txt',\n",
       "  'eTag': '123456',\n",
       "  'sequencer': '0A1B2C3D4E5F678901',\n",
       "  'versionId': '1313131313131.Vier50HdNbi7ZirO65'},\n",
       " 's3SchemaVersion': '1.0'}"
      ]
     },
     "execution_count": 9,
     "metadata": {},
     "output_type": "execute_result"
    }
   ],
   "source": [
    "odm[\"s3\"]\n",
    "# add size, versionId to s3"
   ]
  },
  {
   "cell_type": "code",
   "execution_count": 10,
   "metadata": {},
   "outputs": [],
   "source": [
    "from copy import deepcopy"
   ]
  },
  {
   "cell_type": "code",
   "execution_count": 11,
   "metadata": {},
   "outputs": [],
   "source": [
    "EVENT_CORE = deepcopy(op)"
   ]
  },
  {
   "cell_type": "code",
   "execution_count": 12,
   "metadata": {},
   "outputs": [],
   "source": [
    "for d in (\"eTag\", \"size\", \"versionId\"):\n",
    "    if d in EVENT_CORE[\"s3\"][\"object\"]:\n",
    "        del EVENT_CORE[\"s3\"][\"object\"][d]"
   ]
  },
  {
   "cell_type": "code",
   "execution_count": 13,
   "metadata": {
    "scrolled": true
   },
   "outputs": [
    {
     "data": {
      "text/plain": [
       "{'eventVersion': '2.1',\n",
       " 'eventSource': 'aws:s3',\n",
       " 'awsRegion': 'us-east-1',\n",
       " 'eventTime': '2020-05-22T00:32:20.515Z',\n",
       " 'eventName': 'ObjectCreated:Put',\n",
       " 'userIdentity': {'principalId': 'EXAMPLE'},\n",
       " 'requestParameters': {'sourceIPAddress': '127.0.0.1'},\n",
       " 'responseElements': {'x-amz-request-id': 'EXAMPLE123456789',\n",
       "  'x-amz-id-2': 'EXAMPLE123/5678abcdefghijklambdaisawesome/mnopqrstuvwxyzABCDEFGH'},\n",
       " 's3': {'s3SchemaVersion': '1.0',\n",
       "  'configurationId': 'testConfigRule',\n",
       "  'bucket': {'name': 'test-bucket',\n",
       "   'ownerIdentity': {'principalId': 'EXAMPLE'},\n",
       "   'arn': 'arn:aws:s3:::test-bucket'},\n",
       "  'object': {'key': 'hello+world.txt', 'sequencer': '0A1B2C3D4E5F678901'}}}"
      ]
     },
     "execution_count": 13,
     "metadata": {},
     "output_type": "execute_result"
    }
   ],
   "source": [
    "EVENT_CORE"
   ]
  },
  {
   "cell_type": "code",
   "execution_count": 31,
   "metadata": {},
   "outputs": [],
   "source": [
    "import pprint"
   ]
  },
  {
   "cell_type": "code",
   "execution_count": 38,
   "metadata": {},
   "outputs": [
    {
     "name": "stdout",
     "output_type": "stream",
     "text": [
      "{'awsRegion': 'us-east-1',\n",
      " 'eventName': 'ObjectCreated:Put',\n",
      " 'eventSource': 'aws:s3',\n",
      " 'eventTime': '2020-05-22T00:32:20.515Z',\n",
      " 'eventVersion': '2.1',\n",
      " 'requestParameters': {'sourceIPAddress': '127.0.0.1'},\n",
      " 'responseElements': {'x-amz-id-2': 'EXAMPLE123/5678abcdefghijklambdaisawesome/mnopqrstuvwxyzABCDEFGH',\n",
      "                      'x-amz-request-id': 'EXAMPLE123456789'},\n",
      " 's3': {'bucket': {'arn': 'arn:aws:s3:::test-bucket',\n",
      "                   'name': 'test-bucket',\n",
      "                   'ownerIdentity': {'principalId': 'EXAMPLE'}},\n",
      "        'configurationId': 'testConfigRule',\n",
      "        'object': {'key': 'hello+world.txt', 'sequencer': '0A1B2C3D4E5F678901'},\n",
      "        's3SchemaVersion': '1.0'},\n",
      " 'userIdentity': {'principalId': 'EXAMPLE'}}\n"
     ]
    }
   ],
   "source": [
    "pprint.pprint(EVENT_CORE, width=100)"
   ]
  },
  {
   "cell_type": "code",
   "execution_count": 14,
   "metadata": {},
   "outputs": [],
   "source": [
    "def make_event(name, eTag=\"\", key=\"\",  size=0, versionId=\"\"):\n",
    "    e = deepcopy(EVENT_CORE)\n",
    "    e[\"eventName\"] = name\n",
    "\n",
    "    if key:\n",
    "        e[\"s3\"][\"object\"][\"key\"] = key\n",
    "    if eTag:\n",
    "        e[\"s3\"][\"object\"][\"eTag\"] = eTag\n",
    "    if size:\n",
    "        e[\"s3\"][\"object\"][\"size\"] = size\n",
    "    if versionId:\n",
    "        e[\"s3\"][\"object\"][\"versionId\"] = versionId\n",
    "    \n",
    "    return e"
   ]
  },
  {
   "cell_type": "code",
   "execution_count": 15,
   "metadata": {},
   "outputs": [
    {
     "data": {
      "text/plain": [
       "True"
      ]
     },
     "execution_count": 15,
     "metadata": {},
     "output_type": "execute_result"
    }
   ],
   "source": [
    "make_event(\"ObjectRemoved:Delete\") == od"
   ]
  },
  {
   "cell_type": "code",
   "execution_count": 25,
   "metadata": {},
   "outputs": [
    {
     "data": {
      "text/plain": [
       "True"
      ]
     },
     "execution_count": 25,
     "metadata": {},
     "output_type": "execute_result"
    }
   ],
   "source": [
    "make_event(\n",
    "    \"ObjectRemoved:DeleteMarkerCreated\",\n",
    "    versionId=\"1313131313131.Vier50HdNbi7ZirO65\",\n",
    "    eTag=\"123456\",\n",
    "    key=\"hello+world.txt\"\n",
    ") == odm"
   ]
  },
  {
   "cell_type": "code",
   "execution_count": 30,
   "metadata": {},
   "outputs": [
    {
     "data": {
      "text/plain": [
       "True"
      ]
     },
     "execution_count": 30,
     "metadata": {},
     "output_type": "execute_result"
    }
   ],
   "source": [
    "make_event(\n",
    "    \"ObjectCreated:Put\",\n",
    "    eTag=\"123456\",\n",
    "    key=\"hello+world.txt\",\n",
    "    size=100\n",
    ") == op"
   ]
  },
  {
   "cell_type": "code",
   "execution_count": 2,
   "metadata": {},
   "outputs": [],
   "source": [
    "def outer(i=1):\n",
    "    def inner():\n",
    "        print(i)\n",
    "    \n",
    "    inner()"
   ]
  },
  {
   "cell_type": "code",
   "execution_count": 6,
   "metadata": {},
   "outputs": [
    {
     "name": "stdout",
     "output_type": "stream",
     "text": [
      "19\n"
     ]
    }
   ],
   "source": [
    "outer(19)"
   ]
  },
  {
   "cell_type": "code",
   "execution_count": null,
   "metadata": {},
   "outputs": [],
   "source": []
  }
 ],
 "metadata": {
  "kernelspec": {
   "display_name": "Python 3",
   "language": "python",
   "name": "python3"
  },
  "language_info": {
   "codemirror_mode": {
    "name": "ipython",
    "version": 3
   },
   "file_extension": ".py",
   "mimetype": "text/x-python",
   "name": "python",
   "nbconvert_exporter": "python",
   "pygments_lexer": "ipython3",
   "version": "3.6.7"
  }
 },
 "nbformat": 4,
 "nbformat_minor": 2
}
