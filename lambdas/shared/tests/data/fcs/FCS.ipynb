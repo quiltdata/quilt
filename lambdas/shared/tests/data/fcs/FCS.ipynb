{
 "cells": [
  {
   "cell_type": "code",
   "execution_count": 5,
   "metadata": {},
   "outputs": [],
   "source": [
    "import fcsparser\n",
    "import glob"
   ]
  },
  {
   "cell_type": "code",
   "execution_count": 6,
   "metadata": {},
   "outputs": [],
   "source": [
    "# get FCS example files here https://flowrepository.org/experiments/4/download_ziped_files"
   ]
  },
  {
   "cell_type": "code",
   "execution_count": 7,
   "metadata": {},
   "outputs": [
    {
     "data": {
      "text/plain": [
       "['meta_only.fcs', 'normal.fcs']"
      ]
     },
     "execution_count": 7,
     "metadata": {},
     "output_type": "execute_result"
    }
   ],
   "source": [
    "files = glob.glob(\"*.fcs\")\n",
    "files"
   ]
  },
  {
   "cell_type": "code",
   "execution_count": 8,
   "metadata": {},
   "outputs": [
    {
     "name": "stdout",
     "output_type": "stream",
     "text": [
      "meta_only.fcs cannot reshape array of size 72631 into shape (10000,12)\n"
     ]
    }
   ],
   "source": [
    "metas = {}\n",
    "datas = {}\n",
    "\n",
    "for f in files:\n",
    "    try:\n",
    "        meta, data = fcsparser.parse(f, reformat_meta=True)\n",
    "        metas[f] = meta\n",
    "        datas[f] = data\n",
    "    except Exception as e:\n",
    "        meta = fcsparser.parse(f, reformat_meta=True, meta_data_only=True)\n",
    "        metas[f] = meta\n",
    "        print(f, e)"
   ]
  },
  {
   "cell_type": "code",
   "execution_count": 74,
   "metadata": {},
   "outputs": [],
   "source": [
    "fcsparser.parse?"
   ]
  },
  {
   "cell_type": "code",
   "execution_count": 17,
   "metadata": {},
   "outputs": [
    {
     "data": {
      "text/plain": [
       "'FSC-A,SSC-A,FL1-A,FL2-A,FL3-A,FL4-A,FSC-H,SSC-H,FL1-H,FL2-H,FL3-H,FL4-H,Width,Time'"
      ]
     },
     "execution_count": 17,
     "metadata": {},
     "output_type": "execute_result"
    }
   ],
   "source": [
    "','.join(datas[files[1]].columns)"
   ]
  },
  {
   "cell_type": "code",
   "execution_count": 37,
   "metadata": {},
   "outputs": [
    {
     "name": "stdout",
     "output_type": "stream",
     "text": [
      "{'__header__': {'FCS format': b'FCS3.0', 'text start': 58, 'text end': 2306, 'data start': 2307, 'data end': 2309858, 'analysis start': 0, 'analysis end': 0}, '$PAR': 26, '$P1N': 'Event', '$P1S': 'Event', '$P1B': 32, '$P1E': '0,0', '$P1R': '16777216', '$P1V': '0', '$P2N': 'Time', '$P2S': 'Time', '$P2B': 32, '$P2E': '0,0', '$P2R': '16777216', '$P2V': '0', '$P3N': 'FSC-A', '$P3S': 'FSC-A', '$P3B': 32, '$P3E': '0,0', '$P3R': '16777216', '$P3V': '2650', '$P4N': 'SSC-A', '$P4S': 'SSC-A', '$P4B': 32, '$P4E': '0,0', '$P4R': '16777216', '$P4V': '2800', '$P5N': 'BL1-A', '$P5S': 'BL1-A', '$P5B': 32, '$P5E': '0,0', '$P5R': '16777216', '$P5V': '2200', '$P6N': 'BL2-A', '$P6S': 'BL2-A', '$P6B': 32, '$P6E': '0,0', '$P6R': '16777216', '$P6V': '2300', '$P7N': 'BL3-A', '$P7S': 'BL3-A', '$P7B': 32, '$P7E': '0,0', '$P7R': '16777216', '$P7V': '2400', '$P8N': 'VL1-A', '$P8S': 'VL1-A', '$P8B': 32, '$P8E': '0,0', '$P8R': '16777216', '$P8V': '1350', '$P9N': 'VL2-A', '$P9S': 'VL2-A', '$P9B': 32, '$P9E': '0,0', '$P9R': '16777216', '$P9V': '1950', '$P10N': 'VL3-A', '$P10S': 'VL3-A', '$P10B': 32, '$P10E': '0,0', '$P10R': '16777216', '$P10V': '1950', '$P11N': 'FSC-H', '$P11S': 'FSC-H', '$P11B': 32, '$P11E': '0,0', '$P11R': '16777216', '$P11V': '2650', '$P12N': 'SSC-H', '$P12S': 'SSC-H', '$P12B': 32, '$P12E': '0,0', '$P12R': '16777216', '$P12V': '2800', '$P13N': 'BL1-H', '$P13S': 'BL1-H', '$P13B': 32, '$P13E': '0,0', '$P13R': '16777216', '$P13V': '2200', '$P14N': 'BL2-H', '$P14S': 'BL2-H', '$P14B': 32, '$P14E': '0,0', '$P14R': '16777216', '$P14V': '2300', '$P15N': 'BL3-H', '$P15S': 'BL3-H', '$P15B': 32, '$P15E': '0,0', '$P15R': '16777216', '$P15V': '2400', '$P16N': 'VL1-H', '$P16S': 'VL1-H', '$P16B': 32, '$P16E': '0,0', '$P16R': '16777216', '$P16V': '1350', '$P17N': 'VL2-H', '$P17S': 'VL2-H', '$P17B': 32, '$P17E': '0,0', '$P17R': '16777216', '$P17V': '1950', '$P18N': 'VL3-H', '$P18S': 'VL3-H', '$P18B': 32, '$P18E': '0,0', '$P18R': '16777216', '$P18V': '1950', '$P19N': 'FSC-W', '$P19S': 'FSC-W', '$P19B': 32, '$P19E': '0,0', '$P19R': '16777216', '$P19V': '2650', '$P20N': 'SSC-W', '$P20S': 'SSC-W', '$P20B': 32, '$P20E': '0,0', '$P20R': '16777216', '$P20V': '2800', '$P21N': 'BL1-W', '$P21S': 'BL1-W', '$P21B': 32, '$P21E': '0,0', '$P21R': '16777216', '$P21V': '2200', '$P22N': 'BL2-W', '$P22S': 'BL2-W', '$P22B': 32, '$P22E': '0,0', '$P22R': '16777216', '$P22V': '2300', '$P23N': 'BL3-W', '$P23S': 'BL3-W', '$P23B': 32, '$P23E': '0,0', '$P23R': '16777216', '$P23V': '2400', '$P24N': 'VL1-W', '$P24S': 'VL1-W', '$P24B': 32, '$P24E': '0,0', '$P24R': '16777216', '$P24V': '1350', '$P25N': 'VL2-W', '$P25S': 'VL2-W', '$P25B': 32, '$P25E': '0,0', '$P25R': '16777216', '$P25V': '1950', '$P26N': 'VL3-W', '$P26S': 'VL3-W', '$P26B': 32, '$P26E': '0,0', '$P26R': '16777216', '$P26V': '1950', '$DATATYPE': 'F', '$MODE': 'L', '$DATE': '09-May-2010', '$BYTEORD': '1,2,3,4', '$BTIM': '12:06:22', '$TIMESTEP': '1.0', '$TOT': 22188, '$ETIM': '12:07:14', '$FIL': 'Specimen 8 Peak Beads HS100.fcs', '$INST/$EXP': 'Admin', '$OP': 'Admin', '$SYS': 'Microsoft Windows NT 5.1.2600 Service Pack 3', '$PROJ': '8 Peak Beads Experiment 05-06-2010 06.49 PM(1)', '$BEGINANALYSIS': '00000000', '$ENDANALYSIS': '00000000', '$BEGINSTEXT': '00000000', '$ENDSTEXT': '00000000', '$NEXTDATA': 0, '$CYT': 'Attune Cytometric Software v1.0', '$BEGINDATA': '2307', '$ENDDATA': '2309858', '$COM/$SMNO/$SRC/$CELLS/$ABRT/$TR/$LOST': ''}\n",
      "         Event  Time          FSC-A        SSC-A          BL1-A  \\\n",
      "0          1.0   0.0  475146.375000  1034746.125  114671.851562   \n",
      "1          2.0   0.0  244982.109375  1113620.000   35727.210938   \n",
      "2          3.0   0.0  204079.562500  1146674.000   37541.968750   \n",
      "3          4.0   0.0  767508.500000  1061573.875    8218.528320   \n",
      "4          5.0   0.0  437926.281250  1156411.375   36315.203125   \n",
      "...        ...   ...            ...          ...            ...   \n",
      "22183  22184.0  52.0  434180.437500  1145978.000   36567.773438   \n",
      "22184  22185.0  52.0  428503.593750  1096568.375  233692.171875   \n",
      "22185  22186.0  52.0  454323.000000  1252496.625   33305.753906   \n",
      "22186  22187.0  52.0  804611.187500  2074732.375   29171.097656   \n",
      "22187  22188.0  52.0  446016.656250  1236289.000  235178.187500   \n",
      "\n",
      "               BL2-A          BL3-A          VL1-A          VL2-A  \\\n",
      "0      112519.000000   54045.843750  136121.515625  118162.390625   \n",
      "1       42420.968750   20271.033203   39255.597656   30310.660156   \n",
      "2       40705.101562   19371.671875   38925.738281   31045.505859   \n",
      "3        8851.956055    4087.882568    9700.914062    7424.767578   \n",
      "4       41973.292969   20079.935547   38111.066406   30734.429688   \n",
      "...              ...            ...            ...            ...   \n",
      "22183   43135.914062   20538.302734   40441.210938   30547.783203   \n",
      "22184  229250.156250  113228.601562  278817.906250  242536.921875   \n",
      "22185   41518.933594   19449.179688   38956.257812   29638.029297   \n",
      "22186   32179.212891   15103.382812   31432.884766   25370.988281   \n",
      "22187  231648.906250  117361.914062  281942.781250  255617.437500   \n",
      "\n",
      "              VL3-A  ...     VL2-H    VL3-H  FSC-W  SSC-W  BL1-W  BL2-W  \\\n",
      "0      12999.505859  ...  122149.0  13627.0   18.0   12.0   20.0   19.0   \n",
      "1       3277.462646  ...   31868.0   3696.0   16.0   13.0   16.0   16.0   \n",
      "2       3209.377686  ...   32469.0   3586.0   16.0   14.0   17.0   17.0   \n",
      "3        890.972107  ...    8282.0   1184.0   19.0   13.0    0.0    0.0   \n",
      "4       3547.454102  ...   31840.0   3713.0   17.0   13.0   16.0   17.0   \n",
      "...             ...  ...       ...      ...    ...    ...    ...    ...   \n",
      "22183   3529.845947  ...   31622.0   3668.0   17.0   13.0   16.0   17.0   \n",
      "22184  31627.748047  ...  247120.0  32217.0   18.0   13.0   21.0   21.0   \n",
      "22185   3553.323486  ...   30158.0   3491.0   18.0   14.0   16.0   17.0   \n",
      "22186   3345.547363  ...   24757.0   3149.0   20.0   18.0   15.0   15.0   \n",
      "22187  32415.419922  ...  259557.0  33081.0   18.0   14.0   22.0   22.0   \n",
      "\n",
      "       BL3-W  VL1-W  VL2-W  VL3-W  \n",
      "0       17.0   22.0   22.0    8.0  \n",
      "1       12.0   17.0   16.0    0.0  \n",
      "2       13.0   17.0   16.0    0.0  \n",
      "3        0.0    3.0    0.0    0.0  \n",
      "4       13.0   17.0   16.0    0.0  \n",
      "...      ...    ...    ...    ...  \n",
      "22183   13.0   17.0   17.0    0.0  \n",
      "22184   20.0   32.0   31.0   16.0  \n",
      "22185   12.0   17.0   16.0    0.0  \n",
      "22186   10.0   16.0   15.0    0.0  \n",
      "22187   20.0   34.0   32.0   17.0  \n",
      "\n",
      "[22188 rows x 26 columns]\n"
     ]
    }
   ],
   "source": [
    "import io\n",
    "\n",
    "with open(files[3], 'rb') as minput:\n",
    "    with open('tmp.fcs', 'wb') as foutput:\n",
    "        foutput.write(minput.read())\n",
    "    meta, data = fcsparser.parse('tmp.fcs')\n",
    "    print(meta)\n",
    "    print(data)\n",
    "    \n",
    "    "
   ]
  },
  {
   "cell_type": "code",
   "execution_count": 35,
   "metadata": {},
   "outputs": [
    {
     "name": "stdout",
     "output_type": "stream",
     "text": [
      "Accuri - C6 - A01 H2O.fcs\r\n",
      "Accuri - C6 - A02 Spherotech 8 Peak Beads.fcs\r\n",
      "Accuri - C6 - A03 HPB - CD45 PerCP.fcs\r\n",
      "Accuri - C6.fcs\r\n",
      "Applied Biosystems - Attune.fcs\r\n",
      "BD - FACS Aria II - Compensation Controls_B515 Stained Control.fcs\r\n",
      "BD - FACS Aria II - Compensation Controls_G560 Stained Control.fcs\r\n",
      "BD - FACS Aria II - Compensation Controls_G610 Stained Control.fcs\r\n",
      "BD - FACS Aria II - Compensation Controls_G660 Stained Control.fcs\r\n",
      "BD - FACS Aria II - Compensation Controls_G710 Stained Control.fcs\r\n",
      "BD - FACS Aria II.fcs\r\n",
      "Beckman Coulter - Cyan.fcs\r\n",
      "Beckman Coulter - MoFlo Astrios - linear settings.fcs\r\n",
      "Beckman Coulter - MoFlo Astrios - log settings.fcs\r\n",
      "Beckman Coulter - MoFlo XDP.fcs\r\n",
      "Untitled.ipynb\r\n",
      "tmp.fcs\r\n"
     ]
    }
   ],
   "source": [
    "!ls"
   ]
  },
  {
   "cell_type": "code",
   "execution_count": null,
   "metadata": {},
   "outputs": [],
   "source": []
  }
 ],
 "metadata": {
  "kernelspec": {
   "display_name": "Python 3",
   "language": "python",
   "name": "python3"
  },
  "language_info": {
   "codemirror_mode": {
    "name": "ipython",
    "version": 3
   },
   "file_extension": ".py",
   "mimetype": "text/x-python",
   "name": "python",
   "nbconvert_exporter": "python",
   "pygments_lexer": "ipython3",
   "version": "3.7.8"
  }
 },
 "nbformat": 4,
 "nbformat_minor": 4
}
