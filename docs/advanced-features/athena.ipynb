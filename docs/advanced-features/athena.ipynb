{
 "cells": [
  {
   "cell_type": "markdown",
   "id": "fe895e07-0f59-4803-9600-fe7fa5b30d1f",
   "metadata": {},
   "source": [
    "# Querying package metadata with Athena\n",
    "Quilt stores package data and metadata in S3. Metadata lives in a per-package manifest file\n",
    "in a each bucket's `.quilt/` directory.\n",
    "\n",
    "\n",
    "You can therefore query package metadata wth SQL engines like AWS Athena.\n",
    "Users can write SQL queries to select packages (or files from within packages)\n",
    "using predicates based on package or object-level metadata."
   ]
  },
  {
   "cell_type": "markdown",
   "id": "73600303-002f-4460-b0cc-7176fd6f55e1",
   "metadata": {},
   "source": [
    "## Note: Executing Documentation Code  \n",
    "If you import your AWS credentials for use by `boto3`, you can edit and execute code directly from the notebook version of this document. You can alternatively copy and paste it into your Python editor."
   ]
  },
  {
   "cell_type": "code",
   "execution_count": 3,
   "id": "5e7ea237-20bc-470a-b009-047a93d833b9",
   "metadata": {},
   "outputs": [
    {
     "name": "stderr",
     "output_type": "stream",
     "text": [
      "UsageError: Environment does not have key: aws\n"
     ]
    }
   ],
   "source": [
    "%env aws\n",
    "%pip install boto3"
   ]
  },
  {
   "cell_type": "markdown",
   "id": "5125f6c0-b75d-4230-a81e-63f91073d091",
   "metadata": {},
   "source": [
    "This allows you to configure AWS services by calling Python objects:"
   ]
  },
  {
   "cell_type": "code",
   "execution_count": 2,
   "id": "c90a031d-3d71-48a2-95e4-3cbb7923375c",
   "metadata": {},
   "outputs": [],
   "source": [
    "import boto3,json\n",
    "SESSION = boto3.session.Session()\n",
    "print(SESSION)\n",
    "\n",
    "ATHENA = boto3.client('athena')\n",
    "IAM = boto3.resource('iam')\n",
    "S3 = boto3.client('s3')"
   ]
  },
  {
   "cell_type": "markdown",
   "id": "753c6d28-c415-4d4e-9846-43c0fd6c4057",
   "metadata": {},
   "source": [
    "## I. Granting Access to Athena\n",
    "\n",
    "By default, Quilt runs with very conservative permissions that do not allow access to [Amazon Athena](https://docs.aws.amazon.com/athena/latest/ug/what-is.html). To enable Athena SQL queries by your Quilt users, you must:\n",
    "\n",
    "1. Create a new Athena policy.\n",
    "\n",
    "The standard [AmazonAthenaFullAccess](https://console.aws.amazon.com/iam/home#/policies/arn:aws:iam::aws:policy/AmazonAthenaFullAccess) policy is more permissive than necessary.  For production usage, we recommend creating something more limited, such as:"
   ]
  },
  {
   "cell_type": "code",
   "execution_count": null,
   "id": "a2f2b070-6bfa-4161-aaab-d71ca481dbcb",
   "metadata": {},
   "outputs": [],
   "source": [
    "# https://boto3.amazonaws.com/v1/documentation/api/latest/reference/services/iam.html#IAM.ServiceResource.create_policy\n",
    "AthenaLimitedAccess=\"\"\"\n",
    "        \"Document\": {\n",
    "            \"Statement\": [\n",
    "                {\n",
    "                    \"Effect\": \"Allow\",\n",
    "                    \"Action\": [\n",
    "                        \"athena:*\"\n",
    "                    ],\n",
    "                    \"Resource\": [\n",
    "                        \"*\"\n",
    "                    ]\n",
    "                },\n",
    "                {\n",
    "                    \"Effect\": \"Allow\",\n",
    "                    \"Action\": [\n",
    "                        \"glue:GetDatabase\",\n",
    "                        \"glue:GetDatabases\",\n",
    "                        \"glue:CreateTable\",\n",
    "                        \"glue:DeleteTable\",\n",
    "                        \"glue:UpdateTable\",\n",
    "                        \"glue:GetTable\",\n",
    "                        \"glue:GetTables\",\n",
    "                    ],\n",
    "                    \"Resource\": [\n",
    "                        \"*\"\n",
    "                    ]\n",
    "                }\n",
    "            ]\n",
    "        }\n",
    "\"\"\"\n",
    "LimitedAccessPolicy = IAM.create_policy(\n",
    "    PolicyName='AthenaLimitedAccess',\n",
    "    PolicyDocument=json.dumps(AthenaLimitedAccess),\n",
    "    Description='Minimal Athena Access policy for Quilt'\n",
    ")\n",
    "print(LimitedAccessPolicy)"
   ]
  },
  {
   "cell_type": "markdown",
   "id": "9e848b6d-57b3-46dd-9675-63e8ae1c4e7a",
   "metadata": {},
   "source": [
    "2. Attach this policy to your CloudFormation stack.\n",
    " \n",
    "This needs to be done manually by your AWS Administrator:\n",
    "\n",
    "    a. Go to the [CloudFormation console](https://console.aws.amazon.com/cloudformation)\n",
    "    b. Select the Quilt stack\n",
    "    c. Click \"Update\"\n",
    "    d. Add the above ARN to the \"ManagedUserRoleExtraPolicies\" field.\n",
    "    e. Save\n",
    "    \n",
    "3. Add that AWS policy as a Quilt catalog Policy\n",
    "\n",
    "This needs to be done manually by a Quilt Administrator:\n",
    "\n",
    "    a. Login to your Quilt instance at, e.g. https://quilt.mycompany.com\n",
    "    b. Click on \"Admin Settings\" in the upper right\n",
    "    c. Scroll down to the \"Policies\" section on the bottom\n",
    "    d. Click on the \"+\" to create a new Policy\n",
    "    e. Set Title to \"AthenaLimitedAccess\"\n",
    "    f. Check \"Manually set ARN\" and enter ARN of Athena policy.\n",
    "    f. Click \"Create\"\n",
    "    \n",
    "4. Attach that Policy to a (new) Quilt Role\n",
    "\n",
    "You cannot attach a policy to the \"Custom\" Roles, so you will usually need to first create a new Role:\n",
    "\n",
    "    a. From \"Admin Settings\", scroll to \"Roles\"\n",
    "    b. Click on the \"+\" to create a new Role\n",
    "    c. Set Name to e.g., \"AthenaAccessRole\"\n",
    "    d. Click on \"No policies attached.  Attach a policy...\"\n",
    "    e. Select the \"AthenaLimitedAccess\" policy from before\n",
    "    f. Click \"Create\"\n",
    "\n",
    "See [Users and roles](../Catalog/Admin.md) for more details on access control management in Quilt."
   ]
  },
  {
   "cell_type": "markdown",
   "id": "f789d50d-ad7d-474b-8d65-c8e17333db64",
   "metadata": {},
   "source": [
    "## II. Create Athena Workgroup and Bucket\n",
    "\n",
    "Quilt expects a dedicated bucket for Athena queries, which is best to do in its own workgroup\n",
    "\n",
    "1. Create the Bucket\n",
    "2. Set an appropriate Policy\n",
    "3. Create a Workgroup that uses that Bucket\n",
    "\n"
   ]
  },
  {
   "cell_type": "markdown",
   "id": "6909243d-27b8-4be2-93b4-bda0d26514e5",
   "metadata": {},
   "source": [
    "## Defining package tables and views in Athena\n",
    "The next step in configuring Athena to query the package contents and metadata\n",
    "is to define a set of tables that represent the package metadata fields as columns.  First, specify the Quilt bucket you want to index:"
   ]
  },
  {
   "cell_type": "code",
   "execution_count": null,
   "id": "f3f532d0-62e3-4aa2-a682-0f4cbeaac663",
   "metadata": {},
   "outputs": [],
   "source": [
    "QUILT_BUCKET=\"bucket-name\" # without s3:// prefix\n",
    "\n",
    "BUCKET_ID=QUILT_BUCKET.replace('-','_')\n",
    "MANIFEST_TABLE=f\"{BUCKET_ID}_quilt_manifests\"\n",
    "PACKAGES_TABLE=f\"{BUCKET_ID}_quilt_packages\"\n",
    "PACKAGES_VIEW=f\"{BUCKET_ID}_quilt_packages_view\"\n",
    "OBJECTS_VIEW=f\"{BUCKET_ID}_quilt_objects_view\""
   ]
  },
  {
   "cell_type": "markdown",
   "id": "2179997c-399b-43a8-b280-aed4cf411e8a",
   "metadata": {},
   "source": [
    "### Manifests table\n",
    "The following Athena DDL will build a table of all the manifests in that bucket\n",
    "(all package-level and object-level metadata). "
   ]
  },
  {
   "cell_type": "markdown",
   "id": "9c7d932a-422c-4d61-b14e-80aea505f9fa",
   "metadata": {},
   "source": [
    "```sql\n",
    "CREATE EXTERNAL TABLE `quilt_manifests_YOUR_BUCKET`(\n",
    "  `logical_key` string, \n",
    "  `physical_keys` array<string>, \n",
    "  `size` string, \n",
    "  `hash` struct<type:string,value:string>, \n",
    "  `meta` string, \n",
    "  `user_meta` string, \n",
    "  `message` string, \n",
    "  `version` string)\n",
    "ROW FORMAT SERDE \n",
    "  'org.openx.data.jsonserde.JsonSerDe' \n",
    "WITH SERDEPROPERTIES ( \n",
    "  'ignore.malformed.json'='true') \n",
    "STORED AS INPUTFORMAT \n",
    "  'org.apache.hadoop.mapred.TextInputFormat' \n",
    "OUTPUTFORMAT \n",
    "  'org.apache.hadoop.hive.ql.io.IgnoreKeyTextOutputFormat'\n",
    "LOCATION\n",
    "  's3://{bucket}/.quilt/packages'\n",
    "TBLPROPERTIES (\n",
    "  'has_encrypted_data'='false', \n",
    "  'transient_lastDdlTime'='1605312102')\n",
    "```"
   ]
  },
  {
   "cell_type": "markdown",
   "id": "73215c0a-50a5-4ca4-b618-e88a995a35fe",
   "metadata": {},
   "source": [
    "### Package metadata table\n",
    "Package names and top hashes are not stored in the manifests. Rather they are stored in pointer files in the `.quilt/named_packages` folder.\n",
    "The following DDL creates a table from these pointer files to make package\n",
    "top hashes available in Athena.\n",
    "\n",
    "```sql\n",
    "CREATE EXTERNAL TABLE `quilt_named_packages_YOUR_BUCKET`(\n",
    "  `hash` string)\n",
    "ROW FORMAT DELIMITED \n",
    "  FIELDS TERMINATED BY ',' STORED AS INPUTFORMAT \n",
    "  'org.apache.hadoop.mapred.TextInputFormat' \n",
    "OUTPUTFORMAT \n",
    "  'org.apache.hadoop.hive.ql.io.HiveIgnoreKeyTextOutputFormat'\n",
    "LOCATION\n",
    "  's3://{bucket}/.quilt/named_packages'\n",
    "TBLPROPERTIES (\n",
    "  'has_encrypted_data'='false', \n",
    "  'transient_lastDdlTime'='1557626200')\n",
    "```"
   ]
  },
  {
   "cell_type": "markdown",
   "id": "aa42355a-6791-4a6c-902e-29b64943abef",
   "metadata": {},
   "source": [
    "### View of package-level metadata\n",
    "The DDL below creates a view that contains package-level information including: \n",
    "* User\n",
    "* Package name\n",
    "* Tophash\n",
    "* Timestamp\n",
    "* Commit message\n",
    "\n",
    "```sql\n",
    "CREATE OR REPLACE VIEW \"quilt_packages_{bucket}_view\" AS\n",
    "WITH\n",
    "  npv AS (\n",
    "    SELECT\n",
    "      regexp_extract(\"$path\", '^s3:\\/\\/([^\\\\/]+)\\/([^\\/]+)\\/([^\\/]+)\\/([^\\/]+)', 4) as user,\n",
    "      regexp_extract(\"$path\", '^s3:\\/\\/([^\\\\/]+)\\/([^\\/]+)\\/([^\\/]+)\\/([^\\/]+)\\/([^\\/]+)', 5) as name,\n",
    "      regexp_extract(\"$path\", '[^/]+$') as timestamp,\n",
    "      \"quilt_named_packages_{bucket}\".\"hash\"\n",
    "      FROM \"quilt_named_packages_{bucket}\"\n",
    "  ),\n",
    "  mv AS (\n",
    "    SELECT\n",
    "      regexp_extract(\"$path\", '[^/]+$') as tophash,\n",
    "        manifest.\"meta\",\n",
    "        manifest.\"message\"\n",
    "      FROM\n",
    "        \"quilt_manifests_{bucket}\" as manifest\n",
    "      WHERE manifest.\"logical_key\" IS NULL\n",
    "  )\n",
    "SELECT\n",
    "  npv.\"user\",\n",
    "  npv.\"name\",\n",
    "  npv.\"hash\",\n",
    "  npv.\"timestamp\",\n",
    "  mv.\"message\",\n",
    "  mv.\"meta\"\n",
    "FROM npv\n",
    "JOIN\n",
    "  mv\n",
    "ON\n",
    "  npv.\"hash\" = mv.\"tophash\" \n",
    "```"
   ]
  },
  {
   "cell_type": "markdown",
   "id": "2111bfa0-ccea-4169-aeda-b67b8b317ed9",
   "metadata": {},
   "source": [
    "### View of object-Level metadata\n",
    "The DDL below creates a view that contains package contents, including:\n",
    "* logical_key\n",
    "* physical_keys\n",
    "* object hash\n",
    "* object metadata\n",
    "\n",
    "```sql\n",
    "CREATE OR REPLACE VIEW \"quilt_package_objects_YOUR_BUCKET_view\" AS\n",
    "WITH\n",
    "  mv AS (\n",
    "    SELECT\n",
    "      regexp_extract(\"$path\", '[^/]+$') as tophash,\n",
    "      manifest.\"logical_key\",\n",
    "      manifest.\"physical_keys\",\n",
    "      manifest.\"size\",\n",
    "      manifest.\"hash\",\n",
    "      manifest.\"meta\",\n",
    "      manifest.\"user_meta\"\n",
    "    FROM\n",
    "      \"quilt_manifests_YOUR_BUCKET\" as manifest\n",
    "    WHERE manifest.\"logical_key\" IS NOT NULL\n",
    "  )\n",
    "SELECT\n",
    "  npv.\"user\",\n",
    "  npv.\"name\",\n",
    "  npv.\"timestamp\",\n",
    "  mv.\"tophash\",\n",
    "  mv.\"logical_key\",\n",
    "  mv.\"physical_keys\",\n",
    "  mv.\"hash\",\n",
    "  mv.\"meta\",\n",
    "  mv.\"user_meta\"\n",
    "FROM mv\n",
    "JOIN\n",
    "  \"quilt_packages_{bucket}_view\" as npv\n",
    "ON\n",
    "  npv.\"hash\" = mv.\"tophash\"\n",
    "```"
   ]
  },
  {
   "cell_type": "markdown",
   "id": "e3fd2809-f568-4401-8c92-fdb36980b9e6",
   "metadata": {},
   "source": [
    "## Example: query package-level metadata\n",
    "\n",
    "Suppose we wish to find all .tiff files produced by algorithm version 1.3\n",
    "with a cell index of 5.\n",
    "\n",
    "```sql\n",
    "SELECT * FROM  \"quilt_package_objects_YOUR_BUCKET_view\" AS\n",
    "WHERE substr(logical_key, -5)='.tiff'\n",
    "-- extract and query package-level metadata\n",
    "AND json_extract_scalar(meta, '$.user_meta.nucmembsegmentationalgorithmversion') LIKE '1.3%'\n",
    "AND json_array_contains(json_extract(meta, '$.user_meta.cellindex'), '5');\n",
    "```"
   ]
  }
 ],
 "metadata": {
  "kernelspec": {
   "display_name": "Python 3 (ipykernel)",
   "language": "python",
   "name": "python3"
  },
  "language_info": {
   "codemirror_mode": {
    "name": "ipython",
    "version": 3
   },
   "file_extension": ".py",
   "mimetype": "text/x-python",
   "name": "python",
   "nbconvert_exporter": "python",
   "pygments_lexer": "ipython3",
   "version": "3.8.9"
  }
 },
 "nbformat": 4,
 "nbformat_minor": 5
}
