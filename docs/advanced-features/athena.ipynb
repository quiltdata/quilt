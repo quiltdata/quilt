{
 "cells": [
  {
   "cell_type": "markdown",
   "id": "fe895e07-0f59-4803-9600-fe7fa5b30d1f",
   "metadata": {},
   "source": [
    "# Querying package metadata with Athena\n",
    "Quilt stores package data and metadata in S3. Metadata lives in a per-package manifest file\n",
    "in each bucket's `.quilt/` directory.\n",
    "\n",
    "You can therefore query package metadata wth SQL engines like [AWS Athena](https://aws.amazon.com/athena/).\n",
    "Users can write SQL queries to select packages (or files from within packages)\n",
    "using predicates based on package or object-level metadata."
   ]
  },
  {
   "cell_type": "markdown",
   "id": "73600303-002f-4460-b0cc-7176fd6f55e1",
   "metadata": {},
   "source": [
    "## Note: Executing Documentation Code  \n",
    "If you launch Jupyter from a shell containing your AWS credentials, you can edit and execute code directly from the [notebook version](https://github.com/quiltdata/quilt/blob/master/docs/advanced-features/athena.ipynb) of this document.\n",
    "You can alternatively copy and paste code blocks into your Python editor.\n",
    "<!--pytest.mark.skip-->"
   ]
  },
  {
   "cell_type": "code",
   "execution_count": 1,
   "id": "5e7ea237-20bc-470a-b009-047a93d833b9",
   "metadata": {},
   "outputs": [],
   "source": [
    "%%capture\n",
    "%pip install boto3"
   ]
  },
  {
   "cell_type": "markdown",
   "id": "6e6d6ec3-afbd-4fd4-9f83-1b8b86f2d75f",
   "metadata": {},
   "source": [
    "You should set COMPANY_NAME and QUILT_BUCKET so the examples work in your enviornment"
   ]
  },
  {
   "cell_type": "code",
   "execution_count": 2,
   "id": "588b75d3-ddde-42aa-8e49-c59b1882c897",
   "metadata": {},
   "outputs": [],
   "source": [
    "COMPANY_NAME = \"mycompany\"\n",
    "QUILT_BUCKET = \"quilt-ernest-staging\"  # Use one of your own, without the S3 URL prefix"
   ]
  },
  {
   "cell_type": "markdown",
   "id": "5125f6c0-b75d-4230-a81e-63f91073d091",
   "metadata": {},
   "source": [
    "This allows you to configure AWS services by calling Python objects:\n",
    "<!--pytest-codeblocks:cont-->"
   ]
  },
  {
   "cell_type": "code",
   "execution_count": 3,
   "id": "c90a031d-3d71-48a2-95e4-3cbb7923375c",
   "metadata": {
    "tags": []
   },
   "outputs": [
    {
     "name": "stdout",
     "output_type": "stream",
     "text": [
      "Session(region_name='us-east-1')\n"
     ]
    }
   ],
   "source": [
    "import boto3, json, re, time\n",
    "\n",
    "\n",
    "def stat(response, label=\"response\"):\n",
    "    print(label + \": \", end=\"\")\n",
    "    print(response[\"ResponseMetadata\"][\"HTTPStatusCode\"])\n",
    "\n",
    "\n",
    "SESSION = boto3.session.Session()\n",
    "REGION = SESSION.region_name\n",
    "print(SESSION)\n",
    "\n",
    "ATHENA = SESSION.client(\"athena\", region_name=REGION)\n",
    "IAM = SESSION.resource(\"iam\")\n",
    "S3 = SESSION.client(\"s3\")\n",
    "STS = SESSION.client(\"sts\")\n",
    "ACCOUNT_ID = STS.get_caller_identity()[\"Account\"]\n",
    "\n",
    "ARN_POLICY = f\"arn:aws:iam::{ACCOUNT_ID}:policy/AthenaQuiltAccess\""
   ]
  },
  {
   "cell_type": "markdown",
   "id": "f789d50d-ad7d-474b-8d65-c8e17333db64",
   "metadata": {
    "tags": []
   },
   "source": [
    "## I. Create Athena Configuration: Workgroup, Bucket, and Database\n",
    "\n",
    "Quilt expects a dedicated bucket for the output from Athena queries, which is best to setup in its own workgroup and database:\n",
    "\n",
    "1. Create the output Bucket `<mycompany>-quilt-query-results`\n",
    "2. Create a `quilt-query` workgroup that uses that Bucket\n",
    "3. Create a `quilt_query` Athena Database for that Workgroup\n",
    "\n",
    "Later we will explicitly grant Quilt access to that Bucket.\n",
    "<!--pytest-codeblocks:cont-->"
   ]
  },
  {
   "cell_type": "code",
   "execution_count": 4,
   "id": "f19f58b6-8415-435a-88c9-af3212fad6e8",
   "metadata": {},
   "outputs": [
    {
     "name": "stdout",
     "output_type": "stream",
     "text": [
      "mycompany-quilt-query-results: 200\n",
      "wg_update: 200\n",
      "db_create: 200\n",
      "s3://mycompany-quilt-query-results\n",
      "arn:aws:glue:us-east-1:712023778557:database/quilt_query\n"
     ]
    }
   ],
   "source": [
    "ATHENA_DB = \"quilt_query\"\n",
    "ATHENA_WORKGROUP = ATHENA_DB.replace(\"_\", \"-\")\n",
    "ATHENA_BUCKET = f\"{COMPANY_NAME}-{ATHENA_WORKGROUP}-results\"\n",
    "ATHENA_URL = \"s3://\" + ATHENA_BUCKET\n",
    "QUILT_URL = \"s3://\" + QUILT_BUCKET  # Adds S3 Prefix\n",
    "\n",
    "ARN_ATHENA = f\"arn:aws:s3:::{ATHENA_BUCKET}\"\n",
    "ARN_CATALOG = f\"arn:aws:glue:{REGION}:{ACCOUNT_ID}:catalog\"\n",
    "# arn:aws:athena:us-east-1:712023778557:datacatalog/*\n",
    "ARN_DATACATALOG = f\"arn:aws:glue:{REGION}:{ACCOUNT_ID}:datacatalog/*\"\n",
    "ARN_DATABASE = f\"arn:aws:glue:{REGION}:{ACCOUNT_ID}:database/{ATHENA_DB}\"\n",
    "ARN_TABLE = f\"arn:aws:glue:{REGION}:{ACCOUNT_ID}:table/{ATHENA_DB}\"\n",
    "ARN_QUILT = f\"arn:aws:s3:::{QUILT_BUCKET}\"\n",
    "ARN_WORKGROUP = f\"arn:aws:athena:{REGION}:{ACCOUNT_ID}:workgroup/{ATHENA_WORKGROUP}\"\n",
    "\n",
    "# Create bucket in default region\n",
    "\n",
    "bucket = (\n",
    "    S3.create_bucket(Bucket=ATHENA_BUCKET)\n",
    "    if REGION == \"us-east-1\"\n",
    "    else S3.create_bucket(Bucket=ATHENA_BUCKET, CreateBucketConfiguration=location)\n",
    ")\n",
    "stat(bucket, ATHENA_BUCKET)\n",
    "# print(bucket)\n",
    "\n",
    "# Create Workgroup which outputs to that Bucket (if needed)\n",
    "\n",
    "wg_list = ATHENA.list_work_groups()\n",
    "wg_names = [wg[\"Name\"] for wg in wg_list[\"WorkGroups\"]]\n",
    "\n",
    "if ATHENA_WORKGROUP not in wg_names:\n",
    "    wg_create = ATHENA.create_work_group(\n",
    "        Name=ATHENA_WORKGROUP, Description=\"Quilt uses this for Athena SQL Queries\"\n",
    "    )\n",
    "    stat(wg_create)\n",
    "\n",
    "# Configure Workgroup to use that Bucket\n",
    "wg_update = ATHENA.update_work_group(\n",
    "    WorkGroup=ATHENA_WORKGROUP,\n",
    "    ConfigurationUpdates={\n",
    "        \"ResultConfigurationUpdates\": {\n",
    "            \"OutputLocation\": ATHENA_URL,\n",
    "        },\n",
    "    },\n",
    ")\n",
    "stat(wg_update, \"wg_update\")\n",
    "\n",
    "# Create new GLUE Database\n",
    "\n",
    "db_create = ATHENA.start_query_execution(\n",
    "    QueryString=f\"create database {ATHENA_DB}\",\n",
    "    ResultConfiguration={\"OutputLocation\": ATHENA_URL + \"/queries/\"},\n",
    ")\n",
    "stat(db_create, \"db_create\")\n",
    "print(ATHENA_URL)\n",
    "print(ARN_DATABASE)"
   ]
  },
  {
   "cell_type": "markdown",
   "id": "753c6d28-c415-4d4e-9846-43c0fd6c4057",
   "metadata": {},
   "source": [
    "## II. Granting Access to Athena\n",
    "\n",
    "By default, Quilt runs with very conservative permissions that do not allow access to [Amazon Athena](https://docs.aws.amazon.com/athena/latest/ug/what-is.html). To enable Athena SQL queries by your Quilt users, you must:\n",
    "\n",
    "### A. Create a new Athena policy.\n",
    "\n",
    "The standard [AmazonAthenaFullAccess](https://console.aws.amazon.com/iam/home#/policies/arn:aws:iam::aws:policy/AmazonAthenaFullAccess) policy is more permissive than necessary.  For production usage, we recommend creating a policy limited to only the above Bucket:\n",
    "<!--pytest-codeblocks:cont-->"
   ]
  },
  {
   "cell_type": "code",
   "execution_count": 5,
   "id": "a2f2b070-6bfa-4161-aaab-d71ca481dbcb",
   "metadata": {},
   "outputs": [],
   "source": [
    "# https://boto3.amazonaws.com/v1/documentation/api/latest/reference/services/iam.html#IAM.ServiceResource.create_policy\n",
    "# https://docs.aws.amazon.com/athena/latest/ug/workgroups-access.html\n",
    "\n",
    "AthenaQuiltAccess = {\n",
    "    \"Version\": \"2012-10-17\",\n",
    "    \"Statement\": [\n",
    "        {\n",
    "            \"Sid\": \"GrantQuiltAthenaFullAccess\",\n",
    "            \"Effect\": \"Allow\",\n",
    "            \"Action\": [\n",
    "                \"athena:ListWorkGroups\",\n",
    "            ],\n",
    "            \"Resource\": [\n",
    "                \"*\",\n",
    "            ],\n",
    "        },\n",
    "        {\n",
    "            \"Sid\": \"GrantQuiltAthenaAccess\",\n",
    "            \"Effect\": \"Allow\",\n",
    "            \"Action\": [\n",
    "                \"athena:Create*\",\n",
    "                \"athena:Get*\",\n",
    "                \"athena:ListDatabases\",\n",
    "                \"athena:ListNamedQueries\",\n",
    "                \"athena:ListPreparedStatements\",\n",
    "                \"athena:ListQueryExecutions\",\n",
    "                \"athena:StartQueryExecution\",\n",
    "                #                \"athena:Update*\",\n",
    "            ],\n",
    "            \"Resource\": [\n",
    "                ARN_CATALOG,\n",
    "                ARN_DATACATALOG,\n",
    "                ARN_WORKGROUP,\n",
    "            ],\n",
    "        },\n",
    "        {\n",
    "            \"Sid\": \"GrantQuiltGlueAccess\",\n",
    "            \"Effect\": \"Allow\",\n",
    "            \"Action\": [\n",
    "                \"glue:GetDatabase\",\n",
    "                \"glue:GetDatabases\",\n",
    "                \"glue:GetTable\",\n",
    "                \"glue:GetTables\",\n",
    "            ],\n",
    "            \"Resource\": [\n",
    "                \"*\",\n",
    "            ],\n",
    "        },\n",
    "        {\n",
    "            \"Sid\": \"GrantQuiltGlueWriteAccess\",\n",
    "            \"Effect\": \"Allow\",\n",
    "            \"Action\": [\n",
    "                \"glue:CreateTable\",\n",
    "                \"glue:DeleteTable\",\n",
    "                \"glue:UpdateTable\",\n",
    "            ],\n",
    "            \"Resource\": [\n",
    "                ARN_CATALOG,\n",
    "                ARN_DATABASE,\n",
    "                ARN_TABLE + \"/*_quilt_*\",\n",
    "            ],\n",
    "        },\n",
    "        {\n",
    "            \"Sid\": \"GrantQuiltAthenaBucketAccess\",\n",
    "            \"Effect\": \"Allow\",\n",
    "            \"Action\": [\n",
    "                \"s3:GetBucketLocation\",\n",
    "                \"s3:ListBucket\",\n",
    "                \"s3:ListBucketMultipartUploads\",\n",
    "                \"s3:ListMultipartUploadParts\",\n",
    "            ],\n",
    "            \"Resource\": [\n",
    "                \"*\",\n",
    "            ],\n",
    "        },\n",
    "        {\n",
    "            \"Sid\": \"GrantQuiltAthenaInputAccess\",\n",
    "            \"Effect\": \"Allow\",\n",
    "            \"Action\": [\n",
    "                \"s3:GetObject\",\n",
    "            ],\n",
    "            \"Resource\": [\n",
    "                \"arn:aws:s3:::*\",\n",
    "                \"arn:aws:s3:::*/.quilt/*\",\n",
    "            ],\n",
    "        },\n",
    "        {\n",
    "            \"Sid\": \"GrantQuiltAthenaOutputAccess\",\n",
    "            \"Effect\": \"Allow\",\n",
    "            \"Action\": [\n",
    "                \"s3:GetBucketLocation\",\n",
    "                \"s3:GetObject\",\n",
    "                \"s3:ListBucket\",\n",
    "                \"s3:ListBucketMultipartUploads\",\n",
    "                \"s3:ListMultipartUploadParts\",\n",
    "                \"s3:AbortMultipartUpload\",\n",
    "                \"s3:CreateBucket\",\n",
    "                \"s3:PutObject\",\n",
    "                \"s3:PutBucketPublicAccessBlock\",\n",
    "            ],\n",
    "            \"Resource\": [\n",
    "                ARN_ATHENA,\n",
    "                ARN_ATHENA + \"/*\",\n",
    "            ],\n",
    "        },\n",
    "    ],\n",
    "}\n",
    "# print(AthenaQuiltAccess)"
   ]
  },
  {
   "cell_type": "markdown",
   "id": "c668afcf-51a3-43bf-a355-38f4c6fd53a0",
   "metadata": {},
   "source": [
    "If you have used that policy before, you should detatch and delete it before creating a new one:\n",
    "<!--pytest-codeblocks:cont-->"
   ]
  },
  {
   "cell_type": "code",
   "execution_count": 6,
   "id": "87505ff6-f11b-4078-bf5d-384402a95130",
   "metadata": {
    "tags": []
   },
   "outputs": [
    {
     "name": "stdout",
     "output_type": "stream",
     "text": [
      "iam.Policy(arn='arn:aws:iam::712023778557:policy/AthenaQuiltAccess')\n"
     ]
    }
   ],
   "source": [
    "try:\n",
    "    old_policy = IAM.Policy(ARN_POLICY)\n",
    "    for role in old_policy.attached_roles.all():\n",
    "        print(role)\n",
    "        old_policy.detach_role(RoleName=role.role_name)\n",
    "    old_policy.delete()\n",
    "except BaseException as err:\n",
    "    print(f\"Policy not found: {ARN_POLICY}\")\n",
    "    print(err)\n",
    "\n",
    "policy = IAM.create_policy(\n",
    "    PolicyName=\"AthenaQuiltAccess\",\n",
    "    PolicyDocument=json.dumps(AthenaQuiltAccess),\n",
    "    Description=\"Minimal Athena Access policy for Quilt\",\n",
    ")\n",
    "print(policy)"
   ]
  },
  {
   "cell_type": "markdown",
   "id": "9e848b6d-57b3-46dd-9675-63e8ae1c4e7a",
   "metadata": {},
   "source": [
    "### B. Add this policy to your CloudFormation stack.\n",
    " \n",
    "This needs to be done manually by your AWS Administrator:\n",
    "\n",
    "1. Go to the [CloudFormation console](https://console.aws.amazon.com/cloudformation)\n",
    "2. Select the Quilt stack\n",
    "3. Click \"Update\"\n",
    "4. Select \"Use current template\" and click \"Next\"\n",
    "5. Add the above ARN to the \"ManagedUserRoleExtraPolicies\" field\n",
    "6. Click \"Next\" (possibly twice) to configure stack options\n",
    "7. Check \"I acknowledge that AWS CloudFormation might create IAM resources with custom names\"\n",
    "5. Click \"Update stack\" to save changes\n",
    "\n",
    "### C. Add this Policy to Quilt and relevant Roles\n",
    "\n",
    "It is strongly recomended that you use the Quilt UI to create Roles that explicitly control which buckets your users can access. If you have done that, you can import the new Policy and attach it to those Roles.\n",
    "\n",
    "1. Login to your Quilt instance at, e.g. https://quilt.mycompany.com\n",
    "2. Click on \"Admin Settings\" in the upper right, under your Profile name\n",
    "3. Scroll down to the \"Policies\" section on the bottom\n",
    "4. Click on the \"+\" to create a new Policy\n",
    "5. Set Title to \"AthenaQuiltAccess\"\n",
    "6. Check \"Manually set ARN\" and enter ARN of Athena policy (from above)\n",
    "7. Click \"No associated roles. Attach current policy to roles…\" and select the appropriate Roles\n",
    "8. Click \"Create\"\n",
    "\n",
    "### D. (Optional) Manage Policies using AWS\n",
    "\n",
    "If you have not setup appropriate \"Quilt\" Roles, then your users will default to using \"Custom\" Roles defined by AWS.  If necessary, you can attach the AWS Policy directly to those AWS Roles (as shown below).  However, we encourage you to move to Quilt Roles as soon as possible, both for greater security and because AWS only allows you to attach a few such Policies.\n",
    "\n",
    "Also, you can only attach to Buckets you own (not, e.g., buckets from https://open.quiltdata.com).\n",
    "\n",
    "See [Users and roles](../Catalog/Admin.md) for more details on access control management in Quilt.\n",
    "<!--pytest-codeblocks:cont-->"
   ]
  },
  {
   "cell_type": "code",
   "execution_count": 7,
   "id": "7622d293-9e49-446e-a957-7657debd7252",
   "metadata": {},
   "outputs": [],
   "source": [
    "def attach_policy_to_roles_matching(athena_policy, role_prefix):\n",
    "    for role in IAM.roles.all():\n",
    "        if role_prefix in role.role_name:\n",
    "            athena_policy.attach_role(RoleName=role.role_name)\n",
    "\n",
    "\n",
    "# For example, the default read-write Role starts with 'ReadWriteQuiltV2'\n",
    "attach_policy_to_roles_matching(policy, \"ReadWriteQuiltV2\")"
   ]
  },
  {
   "cell_type": "markdown",
   "id": "6909243d-27b8-4be2-93b4-bda0d26514e5",
   "metadata": {},
   "source": [
    "## III. Defining Per-Bucket Metadata Tables in Athena\n",
    "\n",
    "For each Bucket you want to query with Athena, you need to create proxy tables and views for that package contents and metadata.  You can also create custom views that join across many such tables.\n",
    "\n",
    "<!--pytest-codeblocks:cont-->"
   ]
  },
  {
   "cell_type": "code",
   "execution_count": 8,
   "id": "f3f532d0-62e3-4aa2-a682-0f4cbeaac663",
   "metadata": {},
   "outputs": [],
   "source": [
    "BUCKET_ID = QUILT_BUCKET.replace(\"-\", \"_\")\n",
    "MANIFEST_TABLE = f\"{BUCKET_ID}_quilt_manifests\"\n",
    "PACKAGES_TABLE = f\"{BUCKET_ID}_quilt_packages\"\n",
    "PACKAGES_VIEW = f\"{BUCKET_ID}_quilt_packages_view\"\n",
    "OBJECTS_VIEW = f\"{BUCKET_ID}_quilt_objects_view\"\n",
    "\n",
    "DDL = {}"
   ]
  },
  {
   "cell_type": "markdown",
   "id": "2179997c-399b-43a8-b280-aed4cf411e8a",
   "metadata": {},
   "source": [
    "### A. Manifests table\n",
    "The following Athena DDL will build a table of all the manifests in that bucket\n",
    "(all package-level and object-level metadata).\n",
    "<!--pytest-codeblocks:cont-->"
   ]
  },
  {
   "cell_type": "code",
   "execution_count": 9,
   "id": "e9b4d2fa-6463-465b-8072-db45466ed596",
   "metadata": {
    "tags": []
   },
   "outputs": [],
   "source": [
    "DDL[\n",
    "    MANIFEST_TABLE\n",
    "] = f\"\"\"\n",
    "CREATE EXTERNAL TABLE IF NOT EXISTS `{ATHENA_DB}.{MANIFEST_TABLE}`(\n",
    "  `logical_key` string,\n",
    "  `physical_keys` array<string>,\n",
    "  `size` string,\n",
    "  `hash` struct<type:string,value:string>,\n",
    "  `meta` string,\n",
    "  `user_meta` string,\n",
    "  `message` string,\n",
    "  `version` string)\n",
    "ROW FORMAT SERDE\n",
    "  'org.openx.data.jsonserde.JsonSerDe'\n",
    "WITH SERDEPROPERTIES (\n",
    "  'ignore.malformed.json'='true')\n",
    "STORED AS INPUTFORMAT\n",
    "  'org.apache.hadoop.mapred.TextInputFormat'\n",
    "OUTPUTFORMAT\n",
    "  'org.apache.hadoop.hive.ql.io.IgnoreKeyTextOutputFormat'\n",
    "LOCATION\n",
    "  '{QUILT_URL}/.quilt/packages'\n",
    "TBLPROPERTIES (\n",
    "  'has_encrypted_data'='false',\n",
    "  'transient_lastDdlTime'='1605312102')\n",
    "\"\"\""
   ]
  },
  {
   "cell_type": "markdown",
   "id": "73215c0a-50a5-4ca4-b618-e88a995a35fe",
   "metadata": {},
   "source": [
    "### B. Package metadata table\n",
    "Package names and top hashes are not stored in the manifests. Rather they are stored in pointer files in the `.quilt/named_packages` folder.\n",
    "The following DDL creates a table from these pointer files to make package\n",
    "top hashes available in Athena.\n",
    "<!--pytest-codeblocks:cont-->"
   ]
  },
  {
   "cell_type": "code",
   "execution_count": 10,
   "id": "1ae3532c-a91e-4168-824a-3a73a941f9c6",
   "metadata": {
    "tags": []
   },
   "outputs": [],
   "source": [
    "DDL[\n",
    "    PACKAGES_TABLE\n",
    "] = f\"\"\"\n",
    "CREATE EXTERNAL TABLE IF NOT EXISTS `{ATHENA_DB}.{PACKAGES_TABLE}`(\n",
    "  `hash` string)\n",
    "ROW FORMAT DELIMITED\n",
    "  FIELDS TERMINATED BY ',' STORED AS INPUTFORMAT\n",
    "  'org.apache.hadoop.mapred.TextInputFormat'\n",
    "OUTPUTFORMAT\n",
    "  'org.apache.hadoop.hive.ql.io.HiveIgnoreKeyTextOutputFormat'\n",
    "LOCATION\n",
    "  '{QUILT_URL}/.quilt/named_packages'\n",
    "TBLPROPERTIES (\n",
    "  'has_encrypted_data'='false',\n",
    "  'transient_lastDdlTime'='1557626200')\n",
    "\"\"\""
   ]
  },
  {
   "cell_type": "markdown",
   "id": "aa42355a-6791-4a6c-902e-29b64943abef",
   "metadata": {},
   "source": [
    "### C. View of package-level metadata\n",
    "The DDL below creates a view that contains package-level information including: \n",
    "* User\n",
    "* Package name\n",
    "* Top hash\n",
    "* Timestamp\n",
    "* Commit message\n",
    "<!--pytest-codeblocks:cont-->"
   ]
  },
  {
   "cell_type": "code",
   "execution_count": 11,
   "id": "d8d48a9c-62a0-46d0-960a-ba938d81644d",
   "metadata": {
    "tags": []
   },
   "outputs": [],
   "source": [
    "SLASH = r\"\\/([^\\/]+)\"\n",
    "S1 = r\"\\/\"\n",
    "S3_MATCH = f\"^s3:{S1}{SLASH}{SLASH}{SLASH}{SLASH}\"\n",
    "DDL[\n",
    "    PACKAGES_VIEW\n",
    "] = f\"\"\"\n",
    "CREATE OR REPLACE VIEW {ATHENA_DB}.{PACKAGES_VIEW} AS\n",
    "WITH\n",
    "  npv AS (\n",
    "    SELECT\n",
    "      regexp_extract(\"$path\", '{S3_MATCH}', 4) as user,\n",
    "      regexp_extract(\"$path\", '{S3_MATCH}{SLASH}', 5) as name,\n",
    "      regexp_extract(\"$path\", '[^/]+$') as timestamp,\n",
    "      {ATHENA_DB}.{PACKAGES_TABLE}.\"hash\"\n",
    "      FROM {ATHENA_DB}.{PACKAGES_TABLE}\n",
    "  ),\n",
    "  mv AS (\n",
    "    SELECT\n",
    "      regexp_extract(\"$path\", '[^/]+$') as tophash,\n",
    "        manifest.\"meta\",\n",
    "        manifest.\"message\"\n",
    "      FROM\n",
    "        {ATHENA_DB}.{MANIFEST_TABLE} as manifest\n",
    "      WHERE manifest.\"logical_key\" IS NULL\n",
    "  )\n",
    "SELECT\n",
    "  npv.\"user\",\n",
    "  npv.\"name\",\n",
    "  npv.\"hash\",\n",
    "  npv.\"timestamp\",\n",
    "  mv.\"message\",\n",
    "  mv.\"meta\"\n",
    "FROM npv\n",
    "JOIN\n",
    "  mv\n",
    "ON\n",
    "  npv.\"hash\" = mv.\"tophash\"\n",
    "\"\"\""
   ]
  },
  {
   "cell_type": "markdown",
   "id": "2111bfa0-ccea-4169-aeda-b67b8b317ed9",
   "metadata": {},
   "source": [
    "### D. View of object-Level metadata\n",
    "The DDL below creates a view that contains package contents, including:\n",
    "* logical key\n",
    "* physical key\n",
    "* object hash\n",
    "* object metadata\n",
    "<!--pytest-codeblocks:cont-->"
   ]
  },
  {
   "cell_type": "code",
   "execution_count": 12,
   "id": "04648076-121a-488a-abd3-c8c0345e92a9",
   "metadata": {
    "tags": []
   },
   "outputs": [],
   "source": [
    "DDL[\n",
    "    OBJECTS_VIEW\n",
    "] = f\"\"\"\n",
    "CREATE OR REPLACE VIEW {ATHENA_DB}.{OBJECTS_VIEW} AS\n",
    "WITH\n",
    "  mv AS (\n",
    "    SELECT\n",
    "      regexp_extract(\"$path\", '[^/]+$') as tophash,\n",
    "      manifest.\"logical_key\",\n",
    "      manifest.\"physical_keys\",\n",
    "      manifest.\"size\",\n",
    "      manifest.\"hash\",\n",
    "      manifest.\"meta\",\n",
    "      manifest.\"user_meta\"\n",
    "    FROM\n",
    "      {ATHENA_DB}.{MANIFEST_TABLE} as manifest\n",
    "    WHERE manifest.\"logical_key\" IS NOT NULL\n",
    "  )\n",
    "SELECT\n",
    "  npv.\"user\",\n",
    "  npv.\"name\",\n",
    "  npv.\"timestamp\",\n",
    "  mv.\"tophash\",\n",
    "  mv.\"logical_key\",\n",
    "  mv.\"physical_keys\",\n",
    "  mv.\"hash\",\n",
    "  mv.\"meta\",\n",
    "  mv.\"user_meta\"\n",
    "FROM mv\n",
    "JOIN\n",
    "  {ATHENA_DB}.{PACKAGES_VIEW} as npv\n",
    "ON\n",
    "  npv.\"hash\" = mv.\"tophash\"\n",
    "\"\"\""
   ]
  },
  {
   "cell_type": "markdown",
   "id": "39a16be5-c408-49b2-bc46-4226e27e8157",
   "metadata": {},
   "source": [
    "## IV. Calling Athena"
   ]
  },
  {
   "cell_type": "markdown",
   "id": "3cb461d3-1e25-4f19-a795-d8748cd39d4c",
   "metadata": {},
   "source": [
    "The best way to test this is to create a new Session using a profile with that role (note that it may take a minute for the new Policy to propagate). For example:\n",
    "<!--pytest-codeblocks:cont-->"
   ]
  },
  {
   "cell_type": "code",
   "execution_count": 13,
   "id": "395cd4ec-7291-47dc-93d7-4661a16ff3ce",
   "metadata": {},
   "outputs": [
    {
     "name": "stdout",
     "output_type": "stream",
     "text": [
      "['default', 'quilt', 'managed', 'aneesh', 'ernest']\n"
     ]
    }
   ],
   "source": [
    "print(boto3.session.Session().available_profiles)\n",
    "# new_session = boto3.session.Session(profile_name='quilt')\n",
    "# ATHENA = new_session.client(\"athena\", region_name=REGION)"
   ]
  },
  {
   "cell_type": "markdown",
   "id": "9c9bccf1-3f8d-411b-ab14-93aaf799e07d",
   "metadata": {},
   "source": [
    "\n",
    "In order to call Athena, you must submit a query then wait for it to complete\n",
    "<!--pytest-codeblocks:cont-->"
   ]
  },
  {
   "cell_type": "code",
   "execution_count": 14,
   "id": "9e187ea9-bd64-48c1-ae36-b0cdb3a79b89",
   "metadata": {
    "tags": []
   },
   "outputs": [],
   "source": [
    "# https://www.ilkkapeltola.fi/2018/04/simple-way-to-query-amazon-athena-in.html\n",
    "QUERY_ID = \"QueryExecutionId\"\n",
    "TAIL_PATH = re.compile(r\".*\\/(.*)\")\n",
    "\n",
    "\n",
    "def athena_await(resp, max_execution=10):\n",
    "    id = resp[QUERY_ID]\n",
    "    state = \"QUEUED\"\n",
    "    while max_execution > 0 and state in [\"RUNNING\", \"QUEUED\"]:\n",
    "        max_execution = max_execution - 1\n",
    "        response = ATHENA.get_query_execution(QueryExecutionId=id)\n",
    "        if (\n",
    "            \"QueryExecution\" in response\n",
    "            and \"Status\" in response[\"QueryExecution\"]\n",
    "            and \"State\" in response[\"QueryExecution\"][\"Status\"]\n",
    "        ):\n",
    "            status = response[\"QueryExecution\"][\"Status\"]\n",
    "            state = status[\"State\"]\n",
    "            print(f\"\\t#{max_execution} athena_await[{id}]={state}\")\n",
    "\n",
    "            if state == \"FAILED\":\n",
    "                print(status)\n",
    "                return False\n",
    "            elif state == \"SUCCEEDED\":\n",
    "                s3_path = response[\"QueryExecution\"][\"ResultConfiguration\"][\n",
    "                    \"OutputLocation\"\n",
    "                ]\n",
    "                print(\"athena_await[{id}].s3_path:\", s3_path)\n",
    "                filename = TAIL_PATH.findall(s3_path)[0]\n",
    "                return filename\n",
    "        time.sleep(1)\n",
    "\n",
    "    return False\n",
    "\n",
    "\n",
    "def athena_results(resp):\n",
    "    id = resp[QUERY_ID]\n",
    "    raw = ATHENA.get_query_results(QueryExecutionId=id)\n",
    "    if raw.get(\"ResponseMetadata\", {}).get(\n",
    "        \"HTTPStatusCode\"\n",
    "    ) == 200 and \"Rows\" in raw.get(\"ResultSet\", {}):\n",
    "        data = [x[\"Data\"] for x in raw[\"ResultSet\"][\"Rows\"]]\n",
    "        if data and len(data) > 0:\n",
    "            cols = [d.get(\"VarCharValue\") for d in data[0]]\n",
    "            rows = [[d.get(\"VarCharValue\") for d in row] for row in data[1:]]\n",
    "            return (cols, rows)\n",
    "        else:\n",
    "            return raw[\"ResultSet\"]\n",
    "    else:\n",
    "        return f\"Query {id} in progress...\"\n",
    "\n",
    "\n",
    "def athena_run(query):\n",
    "    resp = ATHENA.start_query_execution(\n",
    "        WorkGroup=ATHENA_WORKGROUP,\n",
    "        QueryString=query,\n",
    "        ResultConfiguration={\"OutputLocation\": ATHENA_URL},\n",
    "    )\n",
    "    success = athena_await(resp)\n",
    "    print(\"\\tathena_await\", success)\n",
    "    return athena_results(resp) if success else False"
   ]
  },
  {
   "cell_type": "markdown",
   "id": "87935de8-2342-4712-b8da-e60e34d56d87",
   "metadata": {},
   "source": [
    "### A. Creating Athena Tables and Views\n",
    "\n",
    "For example, you can run the following Python code to create the preceding tables and views:\n",
    "<!--pytest-codeblocks:cont-->"
   ]
  },
  {
   "cell_type": "code",
   "execution_count": 15,
   "id": "1ee63b7a-ebf0-4ab0-9a79-899fc0c2238e",
   "metadata": {},
   "outputs": [
    {
     "name": "stdout",
     "output_type": "stream",
     "text": [
      "\n",
      "Create Athena Tables and Views for quilt-bio-products:\n",
      "\n",
      "quilt_bio_products_quilt_manifests\n",
      "\t#9 athena_await[4d3723aa-0b75-4261-a7cd-05dcebf37c30]=RUNNING\n",
      "\t#8 athena_await[4d3723aa-0b75-4261-a7cd-05dcebf37c30]=RUNNING\n",
      "\t#7 athena_await[4d3723aa-0b75-4261-a7cd-05dcebf37c30]=SUCCEEDED\n",
      "athena_await[{id}].s3_path: s3://mycompany-quilt-query-results/4d3723aa-0b75-4261-a7cd-05dcebf37c30.txt\n",
      "\tathena_await 4d3723aa-0b75-4261-a7cd-05dcebf37c30.txt\n",
      "quilt_bio_products_quilt_packages\n",
      "\t#9 athena_await[e5ccb199-5aa7-42f6-896b-fda94e6bdf96]=RUNNING\n",
      "\t#8 athena_await[e5ccb199-5aa7-42f6-896b-fda94e6bdf96]=RUNNING\n",
      "\t#7 athena_await[e5ccb199-5aa7-42f6-896b-fda94e6bdf96]=SUCCEEDED\n",
      "athena_await[{id}].s3_path: s3://mycompany-quilt-query-results/e5ccb199-5aa7-42f6-896b-fda94e6bdf96.txt\n",
      "\tathena_await e5ccb199-5aa7-42f6-896b-fda94e6bdf96.txt\n",
      "quilt_bio_products_quilt_packages_view\n",
      "\t#9 athena_await[393c269e-a7a7-49fc-9d93-b4be2621a57e]=RUNNING\n",
      "\t#8 athena_await[393c269e-a7a7-49fc-9d93-b4be2621a57e]=SUCCEEDED\n",
      "athena_await[{id}].s3_path: s3://mycompany-quilt-query-results/393c269e-a7a7-49fc-9d93-b4be2621a57e.txt\n",
      "\tathena_await 393c269e-a7a7-49fc-9d93-b4be2621a57e.txt\n",
      "quilt_bio_products_quilt_objects_view\n",
      "\t#9 athena_await[f38d2a58-dd81-43bf-a475-e6624f82e94d]=RUNNING\n",
      "\t#8 athena_await[f38d2a58-dd81-43bf-a475-e6624f82e94d]=SUCCEEDED\n",
      "athena_await[{id}].s3_path: s3://mycompany-quilt-query-results/f38d2a58-dd81-43bf-a475-e6624f82e94d.txt\n",
      "\tathena_await f38d2a58-dd81-43bf-a475-e6624f82e94d.txt\n"
     ]
    }
   ],
   "source": [
    "print(f\"\\nCreate Athena Tables and Views for {QUILT_BUCKET}:\\n\")\n",
    "for key in DDL:\n",
    "    print(key)\n",
    "    status = athena_run(DDL[key])\n",
    "    if not status:\n",
    "        print(\"FAILED:\\n\", DDL[key])"
   ]
  },
  {
   "cell_type": "markdown",
   "id": "e3fd2809-f568-4401-8c92-fdb36980b9e6",
   "metadata": {},
   "source": [
    "### B. Querying package-level metadata\n",
    "\n",
    "Suppose we wish to find all .tiff files produced by algorithm version 1.3\n",
    "with a cell index of 5.\n",
    "<!--pytest-codeblocks:cont-->"
   ]
  },
  {
   "cell_type": "code",
   "execution_count": 16,
   "id": "1326cab2-85a1-4a44-ab02-565262f05b8d",
   "metadata": {},
   "outputs": [],
   "source": [
    "ATHENA_TEST = f\"\"\"\n",
    "SELECT * FROM {ATHENA_DB}.{OBJECTS_VIEW}\n",
    "WHERE substr(logical_key, -5)='.tiff'\n",
    "-- extract and query package-level metadata\n",
    "AND json_extract_scalar(meta, '$.user_meta.nucmembsegmentationalgorithmversion') LIKE '1.3%'\n",
    "AND json_array_contains(json_extract(meta, '$.user_meta.cellindex'), '5');\n",
    "\"\"\""
   ]
  },
  {
   "cell_type": "markdown",
   "id": "3cd20f63-9bce-4aa1-994f-3814ccc21106",
   "metadata": {},
   "source": [
    "You can enter that Query directly in the Athena Query Editor using the QuiltWorkgroup, from the Queries -> Athena SQL tab, or using the following Python code:\n",
    "<!--pytest-codeblocks:cont-->"
   ]
  },
  {
   "cell_type": "code",
   "execution_count": 17,
   "id": "6ce9308b-676f-48e4-b75b-122adb452be0",
   "metadata": {},
   "outputs": [
    {
     "name": "stdout",
     "output_type": "stream",
     "text": [
      "\n",
      "Test Athena Query:\n",
      "\n",
      "SELECT * FROM quilt_query.quilt_bio_products_quilt_objects_view\n",
      "WHERE substr(logical_key, -5)='.tiff'\n",
      "-- extract and query package-level metadata\n",
      "AND json_extract_scalar(meta, '$.user_meta.nucmembsegmentationalgorithmversion') LIKE '1.3%'\n",
      "AND json_array_contains(json_extract(meta, '$.user_meta.cellindex'), '5');\n",
      "\n",
      "WorkGroup quilt-query\n",
      "\t#9 athena_await[7c315a69-19af-4784-9299-bf2b020ad165]=QUEUED\n",
      "\t#8 athena_await[7c315a69-19af-4784-9299-bf2b020ad165]=RUNNING\n",
      "\t#7 athena_await[7c315a69-19af-4784-9299-bf2b020ad165]=FAILED\n",
      "{'State': 'FAILED', 'StateChangeReason': 'com.amazonaws.services.s3.model.AmazonS3Exception: The specified bucket does not exist (Service: Amazon S3; Status Code: 404; Error Code: NoSuchBucket; Request ID: NWNXJA7Y7TMPFPD6; S3 Extended Request ID: zql9sBQ7JblYs9es43/xLSCMvh7H1WTFyNL4t7i1IfgATVyU4Hnx1Ya3nuvudMMpqEBgzP6DM2M=; Proxy: null), S3 Extended Request ID: zql9sBQ7JblYs9es43/xLSCMvh7H1WTFyNL4t7i1IfgATVyU4Hnx1Ya3nuvudMMpqEBgzP6DM2M= (Path: s3://quilt-bio-products/.quilt/packages)', 'SubmissionDateTime': datetime.datetime(2022, 8, 23, 8, 30, 16, 706000, tzinfo=tzlocal()), 'CompletionDateTime': datetime.datetime(2022, 8, 23, 8, 30, 18, 77000, tzinfo=tzlocal()), 'AthenaError': {'ErrorCategory': 2, 'ErrorType': 1306, 'Retryable': False, 'ErrorMessage': 'com.amazonaws.services.s3.model.AmazonS3Exception: The specified bucket does not exist (Service: Amazon S3; Status Code: 404; Error Code: NoSuchBucket; Request ID: NWNXJA7Y7TMPFPD6; S3 Extended Request ID: zql9sBQ7JblYs9es43/xLSCMvh7H1WTFyNL4t7i1IfgATVyU4Hnx1Ya3nuvudMMpqEBgzP6DM2M=; Proxy: null), S3 Extended Request ID: zql9sBQ7JblYs9es43/xLSCMvh7H1WTFyNL4t7i1IfgATVyU4Hnx1Ya3nuvudMMpqEBgzP6DM2M= (Path: s3://quilt-bio-products/.quilt/packages)'}}\n",
      "\tathena_await False\n"
     ]
    }
   ],
   "source": [
    "print(\"\\nTest Athena Query:\")\n",
    "print(ATHENA_TEST)\n",
    "print(\"WorkGroup\", ATHENA_WORKGROUP)\n",
    "results = athena_run(ATHENA_TEST)\n",
    "if results:\n",
    "    print(\"results\")\n",
    "    print(results)"
   ]
  },
  {
   "cell_type": "code",
   "execution_count": null,
   "id": "729cb5d3-ce50-4934-8479-398bf7aa9b39",
   "metadata": {},
   "outputs": [],
   "source": []
  }
 ],
 "metadata": {
  "kernelspec": {
   "display_name": "Python 3 (ipykernel)",
   "language": "python",
   "name": "python3"
  },
  "language_info": {
   "codemirror_mode": {
    "name": "ipython",
    "version": 3
   },
   "file_extension": ".py",
   "mimetype": "text/x-python",
   "name": "python",
   "nbconvert_exporter": "python",
   "pygments_lexer": "ipython3",
   "version": "3.8.9"
  }
 },
 "nbformat": 4,
 "nbformat_minor": 5
}
