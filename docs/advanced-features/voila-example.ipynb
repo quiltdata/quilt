{
 "cells": [
  {
   "cell_type": "code",
   "execution_count": null,
   "metadata": {
    "tags": []
   },
   "outputs": [],
   "source": [
    "import io\n",
    "\n",
    "import altair as alt\n",
    "import pandas as pd\n",
    "from perspective import Table, PerspectiveWidget, Aggregate, Sort, Plugin\n",
    "import yaml\n",
    "import quilt3"
   ]
  },
  {
   "cell_type": "code",
   "execution_count": null,
   "metadata": {
    "scrolled": true
   },
   "outputs": [],
   "source": [
    "%%capture\n",
    "pkg = quilt3.Package.browse('akarve/smartreports', registry='s3://searchminimal')"
   ]
  },
  {
   "cell_type": "code",
   "execution_count": null,
   "metadata": {},
   "outputs": [],
   "source": [
    "ns = pd.read_csv(io.BytesIO(pkg[\"data/ns.csv\"].get_bytes()))\n",
    "sf = pd.read_csv(io.BytesIO(pkg[\"data/sf.csv\"].get_bytes()))\n",
    "\n",
    "colmeta = yaml.safe_load(pkg[\"meta/columns.yaml\"].get_bytes())\n",
    "    \n",
    "models = {m['name']: m for m in colmeta['models']}\n",
    "tables = {m: pd.json_normalize(models[m]['columns']) for m in models}\n",
    "# each table should know which model it came from\n",
    "for t in tables:\n",
    "    tables[t]['model'] = t"
   ]
  },
  {
   "cell_type": "code",
   "execution_count": null,
   "metadata": {},
   "outputs": [],
   "source": [
    "# clean up dates\n",
    "for c in ns.columns:\n",
    "    if 'date' in c.lower():\n",
    "        ns[c] = pd.to_datetime(ns[c])\n",
    "        \n",
    "ns = ns.sort_values([\"Order Date\"]).reset_index()"
   ]
  },
  {
   "cell_type": "code",
   "execution_count": null,
   "metadata": {},
   "outputs": [],
   "source": [
    "for col in [\"Order\", \"Fulfill\"]:\n",
    "    c = alt.Chart(ns).mark_bar().encode(\n",
    "        x=f\"{col} Date:T\",\n",
    "        y=f\"sum({col} Quantity):Q\",\n",
    "        color=\"Name:N\",\n",
    "        tooltip=[f\"Order Date:T\", \"Order Quantity:Q\", \"Name:N\", \"Cumulative Orders:Q\"]\n",
    "    )\n",
    "    prefix = col.lower()\n",
    "    c.save(f\"{prefix}_by_date.json\")"
   ]
  },
  {
   "cell_type": "markdown",
   "metadata": {},
   "source": [
    "# Order fulfillment"
   ]
  },
  {
   "cell_type": "code",
   "execution_count": null,
   "metadata": {},
   "outputs": [],
   "source": [
    "PerspectiveWidget(\n",
    "    ns\n",
    ")"
   ]
  },
  {
   "cell_type": "markdown",
   "metadata": {},
   "source": [
    "# Branch tracking"
   ]
  },
  {
   "cell_type": "code",
   "execution_count": null,
   "metadata": {},
   "outputs": [],
   "source": [
    "PerspectiveWidget(\n",
    "    sf\n",
    ")"
   ]
  },
  {
   "cell_type": "markdown",
   "metadata": {},
   "source": [
    "# Data dictionary"
   ]
  },
  {
   "cell_type": "code",
   "execution_count": null,
   "metadata": {},
   "outputs": [],
   "source": [
    "PerspectiveWidget(\n",
    "    pd.concat(tables.values(), keys=tables.keys(), ignore_index=True)\n",
    ")"
   ]
  }
 ],
 "metadata": {
  "kernelspec": {
   "display_name": "Python 3 (ipykernel)",
   "language": "python",
   "name": "python3"
  },
  "language_info": {
   "codemirror_mode": {
    "name": "ipython",
    "version": 3
   },
   "file_extension": ".py",
   "mimetype": "text/x-python",
   "name": "python",
   "nbconvert_exporter": "python",
   "pygments_lexer": "ipython3",
   "version": "3.9.7"
  }
 },
 "nbformat": 4,
 "nbformat_minor": 4
}
