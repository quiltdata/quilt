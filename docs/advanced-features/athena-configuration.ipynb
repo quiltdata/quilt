{
 "cells": [
  {
   "cell_type": "markdown",
   "id": "38c193a8-cba8-465c-ba17-529fb30a2dbd",
   "metadata": {},
   "source": [
    "# Athena Configuration\n",
    "## Sample scripts for enabling Athena Queries from Quilt\n",
    "\n",
    "In order to use Athena Queries from inside Quilt, you will need to:\n",
    "\n",
    "1. For each Account, configure an:\n",
    "   1. AWS Athena Policy\n",
    "       1. Set CloudFormation -> ManagedUserRoleExtraPolicies to include that Policy\n",
    "       2. Add that AWS Policy to Quilt\n",
    "       3. Add that Quilt Policy to any Quilt Roles that need Athena Queries\n",
    "   2. S3 Output Bucket for Quilt Athena Queries\n",
    "   3. Athena Workgroup to write to that Bucket\n",
    "\n",
    "2. For each Bucket, create:\n",
    "   1. Manifest Tables from `.quilt/packages`\n",
    "   2. Packages Tables from `.quilt/named_packages`\n",
    "   3. Packages View from Packages Table and Manifest Table\n",
    "   4. Objects View from Manifest Table and Packages View\n",
    "   "
   ]
  },
  {
   "cell_type": "markdown",
   "id": "73215c0a-50a5-4ca4-b618-e88a995a35fe",
   "metadata": {},
   "source": [
    "## 1.1 Specify an AWS Athena Policy\n",
    "\n",
    "AWS includes a pre-defined `arn:aws:iam::aws:policy/AmazonAthenaFullAccess` policy, but that is probably too broad for production usage (though you can use it for testing). Here is a more secure alternative:   \n"
   ]
  },
  {
   "cell_type": "code",
   "execution_count": null,
   "id": "777191c4-fc4b-41ae-987b-e8033419d93b",
   "metadata": {},
   "outputs": [],
   "source": []
  }
 ],
 "metadata": {
  "kernelspec": {
   "display_name": "Python 3 (ipykernel)",
   "language": "python",
   "name": "python3"
  },
  "language_info": {
   "codemirror_mode": {
    "name": "ipython",
    "version": 3
   },
   "file_extension": ".py",
   "mimetype": "text/x-python",
   "name": "python",
   "nbconvert_exporter": "python",
   "pygments_lexer": "ipython3",
   "version": "3.8.9"
  }
 },
 "nbformat": 4,
 "nbformat_minor": 5
}
