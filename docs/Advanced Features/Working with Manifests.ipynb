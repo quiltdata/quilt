{
 "cells": [
  {
   "cell_type": "markdown",
   "metadata": {},
   "source": [
    "Every data package is backed by a **manifest**. A manifest is a self-contained reference sheet for a package, containing all of the files data and metadata necessary to work with a package.\n",
    "\n",
    "Every time you save a data package to a registry you also save its manifest. You can inspect the manifest yourself using the `manifest` property:\n"
   ]
  },
  {
   "cell_type": "code",
   "execution_count": 3,
   "metadata": {},
   "outputs": [
    {
     "data": {
      "text/plain": [
       "[{'version': 'v0'},\n",
       " {'logical_key': 'data.csv',\n",
       "  'physical_keys': ['file:///.../data.csv'],\n",
       "  'size': 15,\n",
       "  'hash': None,\n",
       "  'meta': {}}]"
      ]
     },
     "execution_count": 3,
     "metadata": {},
     "output_type": "execute_result"
    }
   ],
   "source": [
    "import quilt3\n",
    "import os\n",
    "\n",
    "# create test file\n",
    "with open(\"data.csv\", \"w\") as f:\n",
    "    f.write(\"id, value\\na, 42\")\n",
    "\n",
    "p = quilt3.Package().set(\"data.csv\", \"data.csv\")\n",
    "list(p.manifest)"
   ]
  },
  {
   "cell_type": "markdown",
   "metadata": {},
   "source": [
    "Manifests saved to disk are in the [jsonl](http://jsonlines.org/)/[ndjson](http://ndjson.org/) format, e.g. JSON strings separated by newlines (`\\n`). They are represented as a `list` of `dict` fragments in-memory.\n",
    "\n",
    "## Manifest specification\n",
    "\n",
    "The first item in the manifest contains the manifest version number (`version`), the package metadata (`user_meta`), and a package commit message (`message`).\n",
    "\n",
    "`version` is used to ensure backwards compatibility should the serialization format change. There is currently only one valid `version`: `v0`.\n",
    "\n",
    "`user_meta` is used to store any user-defined package metadata. In this case this package has no package metadata (yet) so `user_meta` is omitted.\n",
    "\n",
    "`message` stores the package commit message. It will be `None` if the package is pushed without a commit message. The field is omitted if the package was never subject to a `push`.\n",
    "\n",
    "Every item after that is a manifest **entry**. Entries may be files/objects or directories. All files in the package will have a corresponding entry, as will all directories with metadata. Directories without metadata are omitted.\n",
    "\n",
    "The manifest fields are as follows:\n",
    "\n",
    "* `logical_key` - The path to the entry within the package.\n",
    "* `physical_keys` - A list of files. Currently this field will always have a single entry. This field is omitted if the entry is a directory.\n",
    "* `size` - The size of the entry in raw bytes. This field is omitted if the entry is a directory.\n",
    "* `hash` - [Materialized packages](./Materialization.md) record a content hash for every entry in the package. This field is used to ensure package immutability (the tophash is partly a hash of these hashes).\n",
    "\n",
    "  If the hash is present it will be a `dict` fragment of the form `{'type': 'SHA256',\n",
    "   'value': '...'}`. Un-materialized package entries have a `hash` of `None`, as in our example. Directory entries omit this field.\n",
    "* `meta` - Package entry metadata. Package entries lacking metadata will have a `meta` of `{}` (empty `dict`).\n",
    "\n",
    "## Saving and loading manifests\n",
    "\n",
    "In almost all cases you should be using registries, `build`, and `push` to handle sending manifests to and fro. However, there may be advanced use cases where you want to save or load a manifest directly. For that, you can use the low-level manifest API:\n"
   ]
  },
  {
   "cell_type": "code",
   "execution_count": 4,
   "metadata": {},
   "outputs": [
    {
     "name": "stderr",
     "output_type": "stream",
     "text": [
      "Loading manifest: 100%|██████████| 2/2 [00:00<00:00, 2141.59entries/s]\n"
     ]
    },
    {
     "data": {
      "text/plain": [
       "(local Package)\n",
       " └─data.csv"
      ]
     },
     "execution_count": 4,
     "metadata": {},
     "output_type": "execute_result"
    }
   ],
   "source": [
    "p = quilt3.Package().set(\"data.csv\", \"data.csv\")\n",
    "p.set_meta({\"key\": \"value\"})\n",
    "\n",
    "# Saving manifest to jsonl file\n",
    "with open(\"example.jsonl\", \"w\") as f:\n",
    "    p.dump(f)\n",
    "\n",
    "# Loading maifest \n",
    "p.load(open(\"example.jsonl\", \"r\"))"
   ]
  }
 ],
 "metadata": {
  "kernelspec": {
   "display_name": "Python 3",
   "language": "python",
   "name": "python3"
  },
  "language_info": {
   "codemirror_mode": {
    "name": "ipython",
    "version": 3
   },
   "file_extension": ".py",
   "mimetype": "text/x-python",
   "name": "python",
   "nbconvert_exporter": "python",
   "pygments_lexer": "ipython3",
   "version": "3.7.5"
  }
 },
 "nbformat": 4,
 "nbformat_minor": 4
}
