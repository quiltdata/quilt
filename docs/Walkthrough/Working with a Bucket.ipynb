{
 "cells": [
  {
   "cell_type": "markdown",
   "metadata": {},
   "source": [
    "Quilt allows you to create, read, and write packages both on your local filesystem and on S3 buckets configured to work with Quilt3. For convenience, we provide a simple API for working with S3 buckets that serves as an alternative to [boto3](https://boto3.amazonaws.com/v1/documentation/api/latest/index.html).\n",
    "\n",
    "## Connecting to a bucket\n",
    "\n",
    "To connect to an S3 `Bucket`:"
   ]
  },
  {
   "cell_type": "code",
   "execution_count": null,
   "metadata": {},
   "outputs": [],
   "source": [
    "import quilt3\n",
    "b = quilt3.Bucket(\"s3://quilt-example\")"
   ]
  },
  {
   "cell_type": "markdown",
   "metadata": {},
   "source": [
    "This requires that the bucket is configured to work with Quilt 3. Unless this bucket is public, you will also first need to log into the catalog that controls this bucket:"
   ]
  },
  {
   "cell_type": "code",
   "execution_count": null,
   "metadata": {},
   "outputs": [],
   "source": [
    "# only need to run this once\n",
    "# ie quilt3.config('https://your-catalog-homepage/')\n",
    "quilt3.config('https://open.quiltdata.com/')\n",
    "\n",
    "# follow the instructions to finish login\n",
    "quilt3.login()"
   ]
  },
  {
   "cell_type": "markdown",
   "metadata": {},
   "source": [
    "## Introspecting a bucket\n",
    "\n",
    "To see the contents of a `Bucket`, use `keys`:"
   ]
  },
  {
   "cell_type": "code",
   "execution_count": null,
   "metadata": {},
   "outputs": [],
   "source": [
    "b.keys()\n",
    "# [...a list of objects in the bucket...]"
   ]
  },
  {
   "cell_type": "markdown",
   "metadata": {},
   "source": [
    "## Reading from a bucket\n",
    "\n",
    "To download a file or folder from a bucket use `fetch`:"
   ]
  },
  {
   "cell_type": "code",
   "execution_count": null,
   "metadata": {},
   "outputs": [],
   "source": [
    "# b.fetch(\"path/to/directory\", \"path/to/local\")\n",
    "b.fetch(\"aleksey/hurdat/\", \"./aleksey/\")\n",
    "b.fetch(\"README.md\", \"./read.md\")"
   ]
  },
  {
   "cell_type": "markdown",
   "metadata": {},
   "source": [
    "## Writing to a bucket\n",
    "\n",
    "You can write data to a bucket."
   ]
  },
  {
   "cell_type": "code",
   "execution_count": null,
   "metadata": {},
   "outputs": [],
   "source": [
    "# put a file to a bucket\n",
    "b.put_file(\"read.md\", \"./read.md\")\n",
    "\n",
    "# or put everything in a directory at once\n",
    "b.put_dir(\"stuff\", \"./aleksey\")"
   ]
  },
  {
   "cell_type": "markdown",
   "metadata": {},
   "source": [
    "Note that `set` operations on a `Package` are `put` operations on a `Bucket`.\n",
    "\n",
    "## Deleting objects in a bucket"
   ]
  },
  {
   "cell_type": "code",
   "execution_count": null,
   "metadata": {},
   "outputs": [],
   "source": [
    "# always be careful when deleting\n",
    "\n",
    "# delete a fle\n",
    "b.delete(\"read.md\")\n",
    "\n",
    "# delete a directory\n",
    "b.delete_dir(\"stuff/\")"
   ]
  },
  {
   "cell_type": "markdown",
   "metadata": {},
   "source": [
    "## Searching in a bucket\n",
    "\n",
    "You can search for individual objects using `search`.\n",
    "\n",
    "Note that this feature is currently only supported for buckets backed by a Quilt catalog instance. Before performing a search you must first configure a connection to that instance using `quilt3.config`."
   ]
  },
  {
   "cell_type": "code",
   "execution_count": null,
   "metadata": {},
   "outputs": [],
   "source": [
    "# for example\n",
    "quilt3.config(navigator_url=\"https://open.quiltdata.com\")"
   ]
  },
  {
   "cell_type": "markdown",
   "metadata": {},
   "source": [
    "Quilt supports unstructured search:"
   ]
  },
  {
   "cell_type": "code",
   "execution_count": null,
   "metadata": {},
   "outputs": [],
   "source": [
    "b.search(\"thor\")\n",
    "# ...all files containing the word \"thor\"..."
   ]
  },
  {
   "cell_type": "markdown",
   "metadata": {},
   "source": [
    "As well as structured search on metadata (note that this feature is experimental):"
   ]
  },
  {
   "cell_type": "code",
   "execution_count": null,
   "metadata": {},
   "outputs": [],
   "source": [
    "b.search(\"user_meta.name:'thor'\")\n",
    "# ...all files annotated {'name': 'thor'}..."
   ]
  }
 ],
 "metadata": {
  "kernelspec": {
   "display_name": "Python 3",
   "language": "python",
   "name": "python3"
  },
  "language_info": {
   "codemirror_mode": {
    "name": "ipython",
    "version": 3
   },
   "file_extension": ".py",
   "mimetype": "text/x-python",
   "name": "python",
   "nbconvert_exporter": "python",
   "pygments_lexer": "ipython3",
   "version": "3.7.5"
  }
 },
 "nbformat": 4,
 "nbformat_minor": 4
}
