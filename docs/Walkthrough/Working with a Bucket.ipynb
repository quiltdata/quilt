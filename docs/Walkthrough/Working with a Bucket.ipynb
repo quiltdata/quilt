{
 "cells": [
  {
   "cell_type": "markdown",
   "metadata": {},
   "source": [
    "Quilt allows you to create, read, and write packages both on your local filesystem and on S3 buckets configured to work with Quilt3. For convenience, we provide a simple API for working with S3 buckets that serves as an alternative to [boto3](https://boto3.amazonaws.com/v1/documentation/api/latest/index.html).\n",
    "\n",
    "## Connecting to a bucket\n",
    "\n",
    "To connect to an S3 `Bucket`:"
   ]
  },
  {
   "cell_type": "code",
   "execution_count": 1,
   "metadata": {},
   "outputs": [],
   "source": [
    "import quilt3\n",
    "b = quilt3.Bucket(\"s3://quilt-example\")"
   ]
  },
  {
   "cell_type": "markdown",
   "metadata": {},
   "source": [
    "This requires that the bucket is configured to work with Quilt 3. Unless this bucket is public, you will also first need to log into the catalog that controls this bucket:\n",
    "\n",
    "```python\n",
    "# only need to run this once\n",
    "# ie quilt3.config('https://your-catalog-homepage/')\n",
    "quilt3.config('https://open.quiltdata.com/')\n",
    "\n",
    "# follow the instructions to finish login\n",
    "quilt3.login()\n",
    "```"
   ]
  },
  {
   "cell_type": "markdown",
   "metadata": {},
   "source": [
    "## Introspecting a bucket\n",
    "\n",
    "To see the contents of a `Bucket`, use `keys`:"
   ]
  },
  {
   "cell_type": "code",
   "execution_count": null,
   "metadata": {},
   "outputs": [],
   "source": [
    "# returns a list of objects in the bucket\n",
    "b.keys()"
   ]
  },
  {
   "cell_type": "markdown",
   "metadata": {},
   "source": [
    "## Reading from a bucket\n",
    "\n",
    "To download a file or folder from a bucket use `fetch`:"
   ]
  },
  {
   "cell_type": "code",
   "execution_count": 4,
   "metadata": {},
   "outputs": [
    {
     "name": "stderr",
     "output_type": "stream",
     "text": [
      "100%|██████████| 4.07M/4.07M [00:13<00:00, 304kB/s]   \n",
      "100%|██████████| 1.55k/1.55k [00:01<00:00, 972B/s]\n"
     ]
    }
   ],
   "source": [
    "# b.fetch(\"path/to/directory\", \"path/to/local\")\n",
    "b.fetch(\"aleksey/hurdat/\", \"./aleksey/\")\n",
    "b.fetch(\"README.md\", \"./read.md\")"
   ]
  },
  {
   "cell_type": "markdown",
   "metadata": {},
   "source": [
    "## Writing to a bucket\n",
    "\n",
    "You can write data to a bucket."
   ]
  },
  {
   "cell_type": "markdown",
   "metadata": {},
   "source": [
    "```python\n",
    "# put a file to a bucket\n",
    "b.put_file(\"read.md\", \"./read.md\")\n",
    "\n",
    "# or put everything in a directory at once\n",
    "b.put_dir(\"stuff\", \"./aleksey\")\n",
    "```"
   ]
  },
  {
   "cell_type": "markdown",
   "metadata": {},
   "source": [
    "Note that `set` operations on a `Package` are `put` operations on a `Bucket`.\n",
    "\n",
    "## Deleting objects in a bucket"
   ]
  },
  {
   "cell_type": "markdown",
   "metadata": {},
   "source": [
    "```python\n",
    "# always be careful when deleting\n",
    "\n",
    "# delete a fle\n",
    "b.delete(\"read.md\")\n",
    "\n",
    "# delete a directory\n",
    "b.delete_dir(\"stuff/\")\n",
    "```"
   ]
  },
  {
   "cell_type": "markdown",
   "metadata": {},
   "source": [
    "## Searching in a bucket\n",
    "\n",
    "You can search for individual objects using `search`.\n",
    "\n",
    "Note that this feature is currently only supported for buckets backed by a Quilt catalog instance. Before performing a search you must first configure a connection to that instance using `quilt3.config`."
   ]
  },
  {
   "cell_type": "code",
   "execution_count": 5,
   "metadata": {},
   "outputs": [
    {
     "data": {
      "text/plain": [
       "<QuiltConfig at '/Users/gregezema/Library/Application Support/Quilt/config.yml' {\n",
       "    \"navigator_url\": \"https://open.quiltdata.com\",\n",
       "    \"default_local_registry\": \"file:///Users/gregezema/Library/Application%20Support/Quilt/packages\",\n",
       "    \"default_remote_registry\": null,\n",
       "    \"default_install_location\": null,\n",
       "    \"registryUrl\": \"https://open-registry.quiltdata.com\",\n",
       "    \"telemetry_disabled\": false,\n",
       "    \"s3Proxy\": \"https://open-s3-proxy.quiltdata.com\",\n",
       "    \"apiGatewayEndpoint\": \"https://sttuv8u2u4.execute-api.us-east-1.amazonaws.com/prod\",\n",
       "    \"binaryApiGatewayEndpoint\": \"https://ap8tbn363c.execute-api.us-east-1.amazonaws.com/prod\",\n",
       "    \"default_registry_version\": 1\n",
       "}>"
      ]
     },
     "execution_count": 5,
     "metadata": {},
     "output_type": "execute_result"
    }
   ],
   "source": [
    "# for example\n",
    "quilt3.config(navigator_url=\"https://open.quiltdata.com\")"
   ]
  },
  {
   "cell_type": "markdown",
   "metadata": {},
   "source": [
    "Quilt supports unstructured search:"
   ]
  },
  {
   "cell_type": "code",
   "execution_count": 6,
   "metadata": {},
   "outputs": [
    {
     "data": {
      "text/plain": [
       "{'took': 16,\n",
       " 'timed_out': False,\n",
       " '_shards': {'total': 5, 'successful': 5, 'skipped': 0, 'failed': 0},\n",
       " 'hits': {'total': 10,\n",
       "  'max_score': 5.5741544,\n",
       "  'hits': [{'_index': 'quilt-example-reindex-v8bc2377',\n",
       "    '_type': '_doc',\n",
       "    '_id': 'dima/node_modules2/highlight.js/README.md:KOGAC2bPIY9o7vQ3d3ryrD04VpGPmaH2',\n",
       "    '_score': 5.5741544,\n",
       "    '_source': {'size': 19316,\n",
       "     'comment': '',\n",
       "     'version_id': 'KOGAC2bPIY9o7vQ3d3ryrD04VpGPmaH2',\n",
       "     'last_modified': '2019-12-12T01:33:15+00:00',\n",
       "     'updated': '2019-12-12T01:33:15.209387',\n",
       "     'key': 'dima/node_modules2/highlight.js/README.md'}},\n",
       "   {'_index': 'quilt-example-reindex-v8bc2377',\n",
       "    '_type': '_doc',\n",
       "    '_id': 'akarve/amazon-reviews/camera-reviews.parquet:yoLoCR6tdnqE141f5F4EvbFbn2J12AJt',\n",
       "    '_score': 0.080087036,\n",
       "    '_source': {'user_meta': {},\n",
       "     'size': 100764599,\n",
       "     'comment': '',\n",
       "     'version_id': 'yoLoCR6tdnqE141f5F4EvbFbn2J12AJt',\n",
       "     'last_modified': '2019-10-08T02:53:01+00:00',\n",
       "     'updated': '2019-10-08T02:53:31.040985',\n",
       "     'key': 'akarve/amazon-reviews/camera-reviews.parquet'}}]}}"
      ]
     },
     "execution_count": 6,
     "metadata": {},
     "output_type": "execute_result"
    }
   ],
   "source": [
    "# returns all files containing the word \"thor\"\n",
    "b.search(\"thor\")"
   ]
  },
  {
   "cell_type": "markdown",
   "metadata": {},
   "source": [
    "As well as structured search on metadata (note that this feature is experimental):"
   ]
  },
  {
   "cell_type": "code",
   "execution_count": 7,
   "metadata": {},
   "outputs": [
    {
     "data": {
      "text/plain": [
       "{'took': 0,\n",
       " 'timed_out': False,\n",
       " '_shards': {'total': 5, 'successful': 5, 'skipped': 0, 'failed': 0},\n",
       " 'hits': {'total': 0, 'max_score': None, 'hits': []}}"
      ]
     },
     "execution_count": 7,
     "metadata": {},
     "output_type": "execute_result"
    }
   ],
   "source": [
    "# returns all files annotated {'name': 'thor'}\n",
    "b.search(\"user_meta.name:'thor'\")"
   ]
  }
 ],
 "metadata": {
  "kernelspec": {
   "display_name": "Python 3",
   "language": "python",
   "name": "python3"
  },
  "language_info": {
   "codemirror_mode": {
    "name": "ipython",
    "version": 3
   },
   "file_extension": ".py",
   "mimetype": "text/x-python",
   "name": "python",
   "nbconvert_exporter": "python",
   "pygments_lexer": "ipython3",
   "version": "3.7.5"
  }
 },
 "nbformat": 4,
 "nbformat_minor": 4
}
