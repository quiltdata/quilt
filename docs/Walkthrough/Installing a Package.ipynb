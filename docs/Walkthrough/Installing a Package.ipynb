{
 "cells": [
  {
   "cell_type": "markdown",
   "metadata": {},
   "source": [
    "## Searching for packages\n",
    "\n",
    "As explained in [\"Uploading a Package\"](Uploading%20a%20Package.md), packages are managed using *registries*. There is a one local registry on your machine, and potentially many remote registries elsewhere \"in the world\". Use `list_packages` to see the packages available on a registry:"
   ]
  },
  {
   "cell_type": "code",
   "execution_count": 3,
   "metadata": {},
   "outputs": [
    {
     "data": {
      "text/plain": [
       "['aneesh/cli-push',\n",
       " 'examples/hurdat',\n",
       " 'aleksey/hurdat']"
      ]
     },
     "execution_count": 3,
     "metadata": {},
     "output_type": "execute_result"
    }
   ],
   "source": [
    "import quilt3\n",
    "\n",
    "# list local packages\n",
    "list(quilt3.list_packages())"
   ]
  },
  {
   "cell_type": "code",
   "execution_count": 5,
   "metadata": {},
   "outputs": [
    {
     "data": {
      "text/plain": [
       "['aleksey/hurdat',\n",
       " 'examples/hurdat',\n",
       " 'quilt/altair',\n",
       " 'quilt/hurdat',\n",
       " 'quilt/open_fruit',\n",
       " 'quilt/open_images']"
      ]
     },
     "execution_count": 5,
     "metadata": {},
     "output_type": "execute_result"
    }
   ],
   "source": [
    "# list remote packages\n",
    "list(quilt3.list_packages(\"s3://quilt-example\"))"
   ]
  },
  {
   "cell_type": "markdown",
   "metadata": {},
   "source": [
    "## Installing a package\n",
    "\n",
    "To make a remote package and all of its data available locally, `install` it.\n",
    "\n",
    "The examples in this section use the `examples/hurdat` [demo package](https://open.quiltdata.com/b/quilt-example/tree/examples/hurdat/):"
   ]
  },
  {
   "cell_type": "code",
   "execution_count": 3,
   "metadata": {},
   "outputs": [
    {
     "name": "stderr",
     "output_type": "stream",
     "text": [
      "Loading manifest: 100%|██████████| 5/5 [00:00<00:00, 7049.25entries/s]"
     ]
    },
    {
     "name": "stdout",
     "output_type": "stream",
     "text": [
      "Successfully installed package 'examples/hurdat', tophash=f8d1478 from s3://quilt-example\n"
     ]
    },
    {
     "name": "stderr",
     "output_type": "stream",
     "text": [
      "\n"
     ]
    }
   ],
   "source": [
    "quilt3.Package.install(\n",
    "    \"examples/hurdat\",\n",
    "    \"s3://quilt-example\",\n",
    ")"
   ]
  },
  {
   "cell_type": "markdown",
   "metadata": {},
   "source": [
    "Note that unless this registry is public, you will need to be logged into a user who has read access to this registry in order to install from it:\n",
    "\n",
    "```python\n",
    "# only need to run this once\n",
    "# ie quilt3.config('https://your-catalog-homepage/')\n",
    "quilt3.config('https://open.quiltdata.com/')\n",
    "\n",
    "# follow the instructions to finish login\n",
    "quilt3.login()\n",
    "```\n",
    "\n",
    "Data files that you download are written to a folder in your local registry by default. You can specify an alternative destination using dest:"
   ]
  },
  {
   "cell_type": "code",
   "execution_count": 5,
   "metadata": {},
   "outputs": [
    {
     "name": "stderr",
     "output_type": "stream",
     "text": [
      "Loading manifest: 100%|██████████| 5/5 [00:00<00:00, 9027.77entries/s]\n",
      "Copying objects: 100%|██████████| 3.62M/3.62M [00:00<00:00, 303MB/s]"
     ]
    },
    {
     "name": "stdout",
     "output_type": "stream",
     "text": [
      "Successfully installed package 'examples/hurdat', tophash=f8d1478 from s3://quilt-example\n"
     ]
    },
    {
     "name": "stderr",
     "output_type": "stream",
     "text": [
      "\n"
     ]
    }
   ],
   "source": [
    "quilt3.Package.install(\n",
    "    \"examples/hurdat\", \n",
    "    \"s3://quilt-example\", \n",
    "    dest=\"./\"\n",
    ")"
   ]
  },
  {
   "cell_type": "markdown",
   "metadata": {},
   "source": [
    "Finally, you can install a specific version of a package by specifying the corresponding top hash:"
   ]
  },
  {
   "cell_type": "code",
   "execution_count": 6,
   "metadata": {},
   "outputs": [
    {
     "name": "stderr",
     "output_type": "stream",
     "text": [
      "Loading manifest: 100%|██████████| 5/5 [00:00<00:00, 11491.24entries/s]\n",
      "Copying objects: 100%|██████████| 35.4k/35.4k [00:02<00:00, 14.3kB/s]"
     ]
    },
    {
     "name": "stdout",
     "output_type": "stream",
     "text": [
      "Successfully installed package 'examples/hurdat', tophash=058e62c from s3://quilt-example\n"
     ]
    },
    {
     "name": "stderr",
     "output_type": "stream",
     "text": [
      "\n"
     ]
    }
   ],
   "source": [
    "quilt3.Package.install(\n",
    "    \"examples/hurdat\", \n",
    "    \"s3://quilt-example\", \n",
    "    top_hash=\"058e62c\"\n",
    ")"
   ]
  },
  {
   "cell_type": "markdown",
   "metadata": {},
   "source": [
    "## Browsing a package manifest\n",
    "\n",
    "An alternative to `install` is `browse`. `browse` downloads a package manifest without also downloading the data in the package."
   ]
  },
  {
   "cell_type": "code",
   "execution_count": 7,
   "metadata": {},
   "outputs": [
    {
     "name": "stderr",
     "output_type": "stream",
     "text": [
      "Loading manifest: 100%|██████████| 5/5 [00:00<00:00, 7541.00entries/s]\n",
      "Loading manifest: 100%|██████████| 5/5 [00:00<00:00, 10710.68entries/s]\n"
     ]
    }
   ],
   "source": [
    "# load a package manifest from a remote registry\n",
    "p = quilt3.Package.browse(\"examples/hurdat\", \"s3://quilt-example\")\n",
    "\n",
    "# load a package manifest from the default remote registry\n",
    "quilt3.config(default_remote_registry=\"s3://quilt-example\")\n",
    "p = quilt3.Package.browse(\"examples/hurdat\")"
   ]
  },
  {
   "cell_type": "markdown",
   "metadata": {},
   "source": [
    "`browse` is advantageous when you don't want to download everything in a package at once. For example if you just want to look at a package's metadata.\n",
    "\n",
    "## Importing a package\n",
    "\n",
    "You can import a local package from within Python:"
   ]
  },
  {
   "cell_type": "code",
   "execution_count": 8,
   "metadata": {},
   "outputs": [
    {
     "name": "stderr",
     "output_type": "stream",
     "text": [
      "Loading manifest: 100%|██████████| 5/5 [00:00<00:00, 9637.65entries/s]\n"
     ]
    }
   ],
   "source": [
    "from quilt3.data.examples import hurdat"
   ]
  },
  {
   "cell_type": "markdown",
   "metadata": {},
   "source": [
    "This allows you to manage your data and code dependencies all in one place in your Python scripts or Jupyter notebooks."
   ]
  }
 ],
 "metadata": {
  "kernelspec": {
   "display_name": "Python 3",
   "language": "python",
   "name": "python3"
  },
  "language_info": {
   "codemirror_mode": {
    "name": "ipython",
    "version": 3
   },
   "file_extension": ".py",
   "mimetype": "text/x-python",
   "name": "python",
   "nbconvert_exporter": "python",
   "pygments_lexer": "ipython3",
   "version": "3.7.5"
  }
 },
 "nbformat": 4,
 "nbformat_minor": 4
}
