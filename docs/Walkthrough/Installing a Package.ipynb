{
 "cells": [
  {
   "cell_type": "markdown",
   "metadata": {},
   "source": [
    "## Searching for packages\n",
    "\n",
    "As explained in [\"Uploading a Package\"](Uploading%20a%20Package.md), packages are managed using *registries*. There is a one local registry on your machine, and potentially many remote registries elsewhere \"in the world\". Use `list_packages` to see the packages available on a registry:"
   ]
  },
  {
   "cell_type": "code",
   "execution_count": null,
   "metadata": {},
   "outputs": [],
   "source": [
    "import quilt3\n",
    "quilt3.list_packages()  # list local packages"
   ]
  },
  {
   "cell_type": "markdown",
   "metadata": {},
   "source": [
    "```bash\n",
    "PACKAGE                            TOPHASH        CREATED        SIZE\n",
    "namespace/packagename:latest       cac145b9c3dc   just now       2.4 GB\n",
    "othernamespace/packagename:latest  95a134c80z48   14 days ago    2.4 GB\n",
    "```"
   ]
  },
  {
   "cell_type": "code",
   "execution_count": null,
   "metadata": {},
   "outputs": [],
   "source": [
    "quilt3.list_packages(\"s3://quilt-example\")"
   ]
  },
  {
   "cell_type": "markdown",
   "metadata": {},
   "source": [
    "```bash\n",
    "PACKAGE                            TOPHASH        CREATED        SIZE\n",
    "user1/seattle-weather:latest       cac145b9c3dc   1 hour ago     2.4 GB\n",
    "user2/new-york-ballgames:latest    95a134c80z48   6 days ago     2.4 GB\n",
    "```\n",
    "\n",
    "## Installing a package\n",
    "\n",
    "To make a remote package and all of its data available locally, `install` it.\n",
    "\n",
    "The examples in this section use the `examples/hurdat` [demo package](https://open.quiltdata.com/b/quilt-example/tree/examples/hurdat/):"
   ]
  },
  {
   "cell_type": "code",
   "execution_count": null,
   "metadata": {},
   "outputs": [],
   "source": [
    "quilt3.Package.install(\n",
    "    \"examples/hurdat\",\n",
    "    \"s3://quilt-example\",\n",
    ")"
   ]
  },
  {
   "cell_type": "markdown",
   "metadata": {},
   "source": [
    "Note that unless this registry is public, you will need to be logged into a user who has read access to this registry in order to install from it:"
   ]
  },
  {
   "cell_type": "code",
   "execution_count": null,
   "metadata": {},
   "outputs": [],
   "source": [
    "# only need to run this once\n",
    "# ie quilt3.config('https://your-catalog-homepage/')\n",
    "quilt3.config('https://open.quiltdata.com/')\n",
    "\n",
    "# follow the instructions to finish login\n",
    "quilt3.login()"
   ]
  },
  {
   "cell_type": "markdown",
   "metadata": {},
   "source": [
    "Data files that you download are written to a folder in your local registry by default. You can specify an alternative destination using `dest`:"
   ]
  },
  {
   "cell_type": "code",
   "execution_count": null,
   "metadata": {},
   "outputs": [],
   "source": [
    "quilt3.Package.install(\n",
    "    \"examples/hurdat\", \n",
    "    \"s3://quilt-example\", \n",
    "    dest=\"./\"\n",
    ")"
   ]
  },
  {
   "cell_type": "markdown",
   "metadata": {},
   "source": [
    "Finally, you can install a specific version of a package by specifying the corresponding top hash:"
   ]
  },
  {
   "cell_type": "code",
   "execution_count": null,
   "metadata": {},
   "outputs": [],
   "source": [
    "quilt3.Package.install(\n",
    "    \"examples/hurdat\", \n",
    "    \"s3://quilt-example\", \n",
    "    top_hash=\"058e62c\"\n",
    ")"
   ]
  },
  {
   "cell_type": "markdown",
   "metadata": {},
   "source": [
    "## Browsing a package manifest\n",
    "\n",
    "An alternative to `install` is `browse`. `browse` downloads a package manifest without also downloading the data in the package."
   ]
  },
  {
   "cell_type": "code",
   "execution_count": null,
   "metadata": {},
   "outputs": [],
   "source": [
    "# load a package manifest from a remote registry\n",
    "p = quilt3.Package.browse(\"examples/hurdat\", \"s3://quilt-example\")\n",
    "\n",
    "# load a package manifest from the default remote registry\n",
    "quilt3.config(default_remote_registry=\"s3://quilt-example\")\n",
    "p = quilt3.Package.browse(\"examples/hurdat\")"
   ]
  },
  {
   "cell_type": "markdown",
   "metadata": {},
   "source": [
    "`browse` is advantageous when you don't want to download everything in a package at once. For example if you just want to look at a package's metadata.\n",
    "\n",
    "## Importing a package\n",
    "\n",
    "You can import a local package from within Python:"
   ]
  },
  {
   "cell_type": "code",
   "execution_count": null,
   "metadata": {},
   "outputs": [],
   "source": [
    "from quilt3.data.examples import hurdat"
   ]
  },
  {
   "cell_type": "markdown",
   "metadata": {},
   "source": [
    "This allows you to manage your data and code dependencies all in one place in your Python scripts or Jupyter notebooks."
   ]
  }
 ],
 "metadata": {
  "kernelspec": {
   "display_name": "Python 3",
   "language": "python",
   "name": "python3"
  },
  "language_info": {
   "codemirror_mode": {
    "name": "ipython",
    "version": 3
   },
   "file_extension": ".py",
   "mimetype": "text/x-python",
   "name": "python",
   "nbconvert_exporter": "python",
   "pygments_lexer": "ipython3",
   "version": "3.7.5"
  }
 },
 "nbformat": 4,
 "nbformat_minor": 4
}
