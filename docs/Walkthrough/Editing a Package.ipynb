{
 "cells": [
  {
   "cell_type": "markdown",
   "metadata": {},
   "source": [
    "Data in Quilt is organized in terms of **data packages**. A data package is a logical group of files, directories, and metadata.\n",
    "\n",
    "## Initializing a package\n",
    "\n",
    "To edit a new empty package, use the package constructor:"
   ]
  },
  {
   "cell_type": "code",
   "execution_count": 1,
   "metadata": {},
   "outputs": [],
   "source": [
    "import quilt3\n",
    "p = quilt3.Package()"
   ]
  },
  {
   "cell_type": "markdown",
   "metadata": {},
   "source": [
    "To edit a preexisting package, use `browse`:"
   ]
  },
  {
   "cell_type": "code",
   "execution_count": 2,
   "metadata": {},
   "outputs": [
    {
     "name": "stderr",
     "output_type": "stream",
     "text": [
      "Loading manifest: 100%|██████████| 5/5 [00:00<00:00, 5801.25entries/s]\n",
      "Loading manifest: 100%|██████████| 5/5 [00:00<00:00, 9094.33entries/s]"
     ]
    },
    {
     "name": "stdout",
     "output_type": "stream",
     "text": [
      "Successfully installed package 'examples/hurdat', tophash=f8d1478 from s3://quilt-example\n"
     ]
    },
    {
     "name": "stderr",
     "output_type": "stream",
     "text": [
      "\n"
     ]
    }
   ],
   "source": [
    "# let's first install a package\n",
    "quilt3.Package.install(\n",
    "    \"examples/hurdat\",\n",
    "    \"s3://quilt-example\",\n",
    ")\n",
    "# now you can browse the existing package\n",
    "p = quilt3.Package.browse('examples/hurdat')"
   ]
  },
  {
   "cell_type": "markdown",
   "metadata": {},
   "source": [
    "For more information on accessing existing packages see the section \"[Installing a Package](./Installing%20a%20Package.md)\".\n",
    "\n",
    "## Adding data to a package\n",
    "\n",
    "Use the `set` and `set_dir` commands to add individual files and whole directories, respectively, to a `Package`:\n"
   ]
  },
  {
   "cell_type": "code",
   "execution_count": 3,
   "metadata": {},
   "outputs": [],
   "source": [
    "# add entries individually using `set`\n",
    "# ie p.set(\"foo.csv\", \"/local/path/foo.csv\"),\n",
    "# p.set(\"bar.csv\", \"s3://bucket/path/bar.csv\")\n",
    "\n",
    "# create test data\n",
    "with open(\"data.csv\", \"w\") as f:\n",
    "    f.write(\"id, value\\na, 42\")\n",
    "\n",
    "p = quilt3.Package()\n",
    "p = (p\n",
    "     .set(\"data.csv\", \"data.csv\")\n",
    "     .set(\"banner.png\", \"s3://quilt-example/imgs/banner.png\")\n",
    "    )\n",
    "\n",
    "# or grab everything in a directory at once using `set_dir`\n",
    "# ie p.set_dir(\"stuff/\", \"/path/to/stuff/\"),\n",
    "# p.set_dir(\"things/\", \"s3://path/to/things/\")\n",
    "\n",
    "# create test directory\n",
    "import os\n",
    "os.mkdir(\"stuff\")\n",
    "p = (p\n",
    "     .set_dir(\"stuff/\", \"./stuff/\")\n",
    "     .set_dir(\"imgs/\", \"s3://quilt-example/imgs/\")\n",
    "    )"
   ]
  },
  {
   "cell_type": "markdown",
   "metadata": {},
   "source": [
    "The first parameter to these functions is the *logical key*, which will determine where the file lives within the package. So after running the commands above our package will look like this:"
   ]
  },
  {
   "cell_type": "code",
   "execution_count": 4,
   "metadata": {},
   "outputs": [
    {
     "name": "stdout",
     "output_type": "stream",
     "text": [
      "(remote Package)\n",
      " └─banner.png\n",
      " └─data.csv\n",
      " └─imgs/\n",
      "   └─banner.png\n",
      " └─stuff/\n",
      "\n"
     ]
    }
   ],
   "source": [
    "print(p)"
   ]
  },
  {
   "cell_type": "markdown",
   "metadata": {},
   "source": [
    "The second parameter is the *physical key*, which states the file's actual location. The physical key may point to either a local file or a remote object (with an `s3://` path).\n",
    "\n",
    "If the physical key and the logical key are the same, you may omit the second argument:"
   ]
  },
  {
   "cell_type": "code",
   "execution_count": 9,
   "metadata": {},
   "outputs": [
    {
     "name": "stdout",
     "output_type": "stream",
     "text": [
      "(local Package)\n",
      " └─data.csv\n",
      "\n"
     ]
    }
   ],
   "source": [
    "# assuming data.csv is in the current directory\n",
    "p = quilt3.Package()\n",
    "print(p.set(\"data.csv\"))"
   ]
  },
  {
   "cell_type": "markdown",
   "metadata": {},
   "source": [
    "Another useful trick. Use `\"/\"` to set the contents of the package to that of the current directory:"
   ]
  },
  {
   "cell_type": "code",
   "execution_count": 10,
   "metadata": {},
   "outputs": [
    {
     "name": "stdout",
     "output_type": "stream",
     "text": [
      "(local Package)\n",
      " └─Editing a Package.ipynb\n",
      " └─Editing a Package.md\n",
      " └─Getting Data from a Package.ipynb\n",
      " └─Getting Data from a Package.md\n",
      " └─Installing a Package.ipynb\n",
      " └─Installing a Package.md\n",
      " └─Uploading a Package.ipynb\n",
      " └─Uploading a Package.md\n",
      " └─Working with a Bucket.ipynb\n",
      " └─Working with a Bucket.md\n",
      " └─Working with the Catalog.md\n",
      " └─data.csv\n",
      "\n"
     ]
    }
   ],
   "source": [
    "print(p.set_dir(\"/\", \"./\"))"
   ]
  },
  {
   "cell_type": "markdown",
   "metadata": {},
   "source": [
    "## Deleting data in a package\n",
    "\n",
    "Use `delete` to remove entries from a package:"
   ]
  },
  {
   "cell_type": "code",
   "execution_count": 11,
   "metadata": {},
   "outputs": [
    {
     "data": {
      "text/plain": [
       "(local Package)\n",
       " └─Editing a Package.ipynb\n",
       " └─Editing a Package.md\n",
       " └─Getting Data from a Package.ipynb\n",
       " └─Getting Data from a Package.md\n",
       " └─Installing a Package.ipynb\n",
       " └─Installing a Package.md\n",
       " └─Uploading a Package.ipynb\n",
       " └─Uploading a Package.md\n",
       " └─Working with a Bucket.ipynb\n",
       " └─Working with a Bucket.md\n",
       " └─Working with the Catalog.md"
      ]
     },
     "execution_count": 11,
     "metadata": {},
     "output_type": "execute_result"
    }
   ],
   "source": [
    "p.delete(\"data.csv\")"
   ]
  },
  {
   "cell_type": "markdown",
   "metadata": {},
   "source": [
    "Note that this will only remove this piece of data from the package. It will not delete the actual data itself.\n",
    "\n",
    "## Adding metadata to a package\n",
    "\n",
    "Packages support metadata anywhere in the package. To set metadata on package entries or directories, use the `meta` argument:"
   ]
  },
  {
   "cell_type": "code",
   "execution_count": 12,
   "metadata": {},
   "outputs": [],
   "source": [
    "p = (quilt3.Package()\n",
    "    .set(\"data.csv\", \"data.csv\", meta={\"type\": \"csv\"})\n",
    "    .set_dir(\"stuff/\", \"stuff/\", meta={\"origin\": \"unknown\"})\n",
    ")"
   ]
  },
  {
   "cell_type": "markdown",
   "metadata": {},
   "source": [
    "You can also set metadata on the package as a whole using `set_meta`."
   ]
  },
  {
   "cell_type": "code",
   "execution_count": 13,
   "metadata": {},
   "outputs": [
    {
     "data": {
      "text/plain": [
       "(local Package)\n",
       " └─data.csv\n",
       " └─stuff/"
      ]
     },
     "execution_count": 13,
     "metadata": {},
     "output_type": "execute_result"
    }
   ],
   "source": [
    "# set metadata on a package\n",
    "p.set_meta({\"package-type\": \"demo\"})"
   ]
  }
 ],
 "metadata": {
  "kernelspec": {
   "display_name": "Python 3",
   "language": "python",
   "name": "python3"
  },
  "language_info": {
   "codemirror_mode": {
    "name": "ipython",
    "version": 3
   },
   "file_extension": ".py",
   "mimetype": "text/x-python",
   "name": "python",
   "nbconvert_exporter": "python",
   "pygments_lexer": "ipython3",
   "version": "3.7.5"
  }
 },
 "nbformat": 4,
 "nbformat_minor": 4
}
