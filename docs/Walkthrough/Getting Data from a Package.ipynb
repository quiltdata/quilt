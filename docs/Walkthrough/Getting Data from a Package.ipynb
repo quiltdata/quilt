{
 "cells": [
  {
   "cell_type": "markdown",
   "metadata": {},
   "source": [
    "The examples in this section use the `aleksey/hurdat` [demo package](https://open.quiltdata.com/b/quilt-example/tree/aleksey/hurdat/):"
   ]
  },
  {
   "cell_type": "code",
   "execution_count": 1,
   "metadata": {},
   "outputs": [
    {
     "name": "stderr",
     "output_type": "stream",
     "text": [
      "Loading manifest: 100%|██████████| 7/7 [00:00<00:00, 8393.40entries/s]\n"
     ]
    },
    {
     "data": {
      "text/plain": [
       "(remote Package)\n",
       " └─.gitignore\n",
       " └─.quiltignore\n",
       " └─notebooks/\n",
       "   └─QuickStart.ipynb\n",
       " └─quilt_summarize.json\n",
       " └─requirements.txt\n",
       " └─scripts/\n",
       "   └─build.py"
      ]
     },
     "execution_count": 1,
     "metadata": {},
     "output_type": "execute_result"
    }
   ],
   "source": [
    "import quilt3\n",
    "p = quilt3.Package.browse('aleksey/hurdat', 's3://quilt-example')\n",
    "p"
   ]
  },
  {
   "cell_type": "markdown",
   "metadata": {},
   "source": [
    "## Slicing through a package\n",
    "\n",
    "Use `dict` key selection to slice into a package tree:"
   ]
  },
  {
   "cell_type": "code",
   "execution_count": 2,
   "metadata": {},
   "outputs": [
    {
     "data": {
      "text/plain": [
       "PackageEntry('s3://quilt-example/aleksey/hurdat/requirements.txt?versionId=bQtxuZlaylNVHi0GmxkSMofT5qXJvP95')"
      ]
     },
     "execution_count": 2,
     "metadata": {},
     "output_type": "execute_result"
    }
   ],
   "source": [
    "# returns PackageEntry(\"requirements.txt\")\n",
    "p[\"requirements.txt\"]"
   ]
  },
  {
   "cell_type": "code",
   "execution_count": 3,
   "metadata": {},
   "outputs": [
    {
     "data": {
      "text/plain": [
       "(remote Package)\n",
       " └─QuickStart.ipynb"
      ]
     },
     "execution_count": 3,
     "metadata": {},
     "output_type": "execute_result"
    }
   ],
   "source": [
    "# returns (remote Package)\n",
    "p[\"notebooks\"]"
   ]
  },
  {
   "cell_type": "markdown",
   "metadata": {},
   "source": [
    "Slicing into a `Package` directory returns another `Package` rooted at that subdirectory. Slicing into a package entry returns an individual `PackageEntry`.\n",
    "\n",
    "## Downloading package data to disk\n",
    "\n",
    "To download a subset of files from a package directory to a `dest`, use `fetch`:"
   ]
  },
  {
   "cell_type": "code",
   "execution_count": 4,
   "metadata": {},
   "outputs": [
    {
     "name": "stderr",
     "output_type": "stream",
     "text": [
      "Copying objects: 100%|██████████| 36.7k/36.7k [00:01<00:00, 22.7kB/s]\n",
      "100%|██████████| 36.7k/36.7k [00:01<00:00, 24.1kB/s]\n",
      "Copying objects: 100%|██████████| 39.9k/39.9k [00:02<00:00, 16.5kB/s]\n"
     ]
    },
    {
     "data": {
      "text/plain": [
       "(local Package)\n",
       " └─.gitignore\n",
       " └─.quiltignore\n",
       " └─notebooks/\n",
       "   └─QuickStart.ipynb\n",
       " └─quilt_summarize.json\n",
       " └─requirements.txt\n",
       " └─scripts/\n",
       "   └─build.py"
      ]
     },
     "execution_count": 4,
     "metadata": {},
     "output_type": "execute_result"
    }
   ],
   "source": [
    "# download a subfolder\n",
    "p[\"notebooks\"].fetch()\n",
    "\n",
    "# download a single file\n",
    "p[\"notebooks\"][\"QuickStart.ipynb\"].fetch()\n",
    "\n",
    "# download everything\n",
    "p.fetch()"
   ]
  },
  {
   "cell_type": "markdown",
   "metadata": {},
   "source": [
    "`fetch` will default to downloading the files to the current directory, but you can also specify an alternative path:"
   ]
  },
  {
   "cell_type": "code",
   "execution_count": 5,
   "metadata": {},
   "outputs": [
    {
     "name": "stderr",
     "output_type": "stream",
     "text": [
      "100%|██████████| 36.7k/36.7k [00:01<00:00, 22.5kB/s]\n"
     ]
    },
    {
     "data": {
      "text/plain": [
       "PackageEntry('file:///Users/gregezema/Documents/programs/quilt/docs/Walkthrough/references/')"
      ]
     },
     "execution_count": 5,
     "metadata": {},
     "output_type": "execute_result"
    }
   ],
   "source": [
    "p[\"notebooks\"][\"QuickStart.ipynb\"].fetch(\"./references/\")"
   ]
  },
  {
   "cell_type": "markdown",
   "metadata": {},
   "source": [
    "## Downloading package data into memory\n",
    "\n",
    "Alternatively, you can download data directly into memory:"
   ]
  },
  {
   "cell_type": "code",
   "execution_count": 6,
   "metadata": {},
   "outputs": [
    {
     "data": {
      "text/plain": [
       "['notebooks/QuickStart.ipynb']"
      ]
     },
     "execution_count": 6,
     "metadata": {},
     "output_type": "execute_result"
    }
   ],
   "source": [
    "p[\"quilt_summarize.json\"].deserialize()"
   ]
  },
  {
   "cell_type": "markdown",
   "metadata": {},
   "source": [
    "To apply a custom deserializer to your data, pass the function as a parameter to the function. For example, to load a hypothetical `yaml` file using `yaml.safe_load`:"
   ]
  },
  {
   "cell_type": "code",
   "execution_count": 7,
   "metadata": {},
   "outputs": [
    {
     "data": {
      "text/plain": [
       "['notebooks/QuickStart.ipynb']"
      ]
     },
     "execution_count": 7,
     "metadata": {},
     "output_type": "execute_result"
    }
   ],
   "source": [
    "import yaml\n",
    "# returns a dict\n",
    "p[\"quilt_summarize.json\"].deserialize(yaml.safe_load)"
   ]
  },
  {
   "cell_type": "markdown",
   "metadata": {},
   "source": [
    "The deserializer should accept a byte stream as input.\n",
    "\n",
    "## Getting entry locations\n",
    "\n",
    "You can get the path to a package entry or directory using `get`:"
   ]
  },
  {
   "cell_type": "code",
   "execution_count": 8,
   "metadata": {},
   "outputs": [
    {
     "data": {
      "text/plain": [
       "'s3://quilt-example/aleksey/hurdat/notebooks/QuickStart.ipynb?versionId=PH.9gsCH6LM9RQIqsy1U4X6H6s.VoQ_B'"
      ]
     },
     "execution_count": 8,
     "metadata": {},
     "output_type": "execute_result"
    }
   ],
   "source": [
    "# returns /path/to/pkg/root/notebooks/QuickStart.ipynb\n",
    "p[\"notebooks\"][\"QuickStart.ipynb\"].get()"
   ]
  },
  {
   "cell_type": "markdown",
   "metadata": {},
   "source": [
    "## Getting metadata\n",
    "\n",
    "Metadata is available using the `meta` property."
   ]
  },
  {
   "cell_type": "code",
   "execution_count": 9,
   "metadata": {},
   "outputs": [],
   "source": [
    "# get entry metadata\n",
    "p[\"notebooks\"][\"QuickStart.ipynb\"].meta\n",
    "\n",
    "# get directory metadata\n",
    "p[\"notebooks\"].meta\n",
    "\n",
    "# get package metadata\n",
    "p.meta"
   ]
  }
 ],
 "metadata": {
  "kernelspec": {
   "display_name": "Python 3",
   "language": "python",
   "name": "python3"
  },
  "language_info": {
   "codemirror_mode": {
    "name": "ipython",
    "version": 3
   },
   "file_extension": ".py",
   "mimetype": "text/x-python",
   "name": "python",
   "nbconvert_exporter": "python",
   "pygments_lexer": "ipython3",
   "version": "3.7.5"
  }
 },
 "nbformat": 4,
 "nbformat_minor": 4
}
