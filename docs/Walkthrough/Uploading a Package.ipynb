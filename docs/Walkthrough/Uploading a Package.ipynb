{
 "cells": [
  {
   "cell_type": "markdown",
   "metadata": {},
   "source": [
    "Once your package is ready it's time to save and distribute it.\n",
    "\n",
    "## Saving a package manifest locally\n",
    "\n",
    "To save a package to your local disk use `build`."
   ]
  },
  {
   "cell_type": "code",
   "execution_count": 1,
   "metadata": {},
   "outputs": [],
   "source": [
    "import quilt3\n",
    "p = quilt3.Package()\n",
    "\n",
    "top_hash = p.build(\"aneesh/test_data\")"
   ]
  },
  {
   "cell_type": "markdown",
   "metadata": {},
   "source": [
    "Building a package requires providing it with a name. Packages names must follow the `\"${namespace}/${packagename}\"` format. For small teams, we recommend using the package author's name as the namespace.\n",
    "\n",
    "## Authenticating to a remote registry\n",
    "\n",
    "To share a package with others via a remote registry you will first need to authenticate against, if you haven't done so already:\n",
    "\n",
    "```python\n",
    "# only need to run this once\n",
    "# ie quilt3.config('https://your-catalog-homepage/')\n",
    "quilt3.config('https://open.quiltdata.com/')\n",
    "\n",
    "# follow the instructions to finish login\n",
    "quilt3.login()\n",
    "```\n",
    "\n",
    "## Pushing a package to a remote registry\n",
    "\n",
    "To share a package with others via a remote registry, use `push`:\n",
    "\n",
    "```python\n",
    "p = quilt3.Package()\n",
    "p.push(\n",
    "    \"aneesh/test_data\",\n",
    "    \"s3://quilt-example\",\n",
    "    message=\"Updated version my package\"\n",
    ")\n",
    "```\n",
    "\n",
    "`s3://quilt-example` is the *registry*&mdash;the storage backend that the package is available from.\n",
    "\n",
    "You can omit the registry argument if you configure a `default_remote_registry` (this setting persists between sessions):\n",
    "\n",
    "```python\n",
    "quilt3.config(default_remote_registry='s3://quilt-example')\n",
    "p = quilt3.Package()\n",
    "p.push(\"aneesh/test_data\")\n",
    "```\n",
    "\n",
    "You can control where files land using `dest`:\n",
    "\n",
    "```python\n",
    "p = quilt3.Package()\n",
    "p.push(\n",
    "    \"aneesh/test_data\",\n",
    "    dest=\"s3://quilt-example/foo/bar\"\n",
    ")\n",
    "```\n",
    "\n",
    ">For even more fine-grained control of object landing paths see [Materialization](../Advanced%20Features/Materialization.md).\n",
    "\n",
    "## Saving a package on a remote registry\n",
    "\n",
    "`push` will send both a package manifest and its data to a remote registry. This will involve copying your data to S3. To save just the package manifest to S3 without any data copying, use `build`:\n",
    "\n",
    "```python\n",
    "p = quilt3.Package()\n",
    "p.build(\"aneesh/test_data\", \"s3://quilt-example\")\n",
    "```\n",
    "\n",
    "This will create a new version of your package with all of its physical keys preserved.\n",
    "\n",
    "## Delete a package from a registry\n",
    "\n",
    "To delete a package from a registry:\n",
    "\n",
    "```python\n",
    "# delete a package in the local registry\n",
    "quilt3.delete_package(\"aneesh/test_data\")\n",
    "\n",
    "# delete a package in a remote registry\n",
    "quilt3.delete_package(\"aneesh/test_data\", \"s3://quilt-example\")\n",
    "```\n",
    "\n",
    "Note that this will not delete any package data, only the package manifest."
   ]
  }
 ],
 "metadata": {
  "kernelspec": {
   "display_name": "Python 3",
   "language": "python",
   "name": "python3"
  },
  "language_info": {
   "codemirror_mode": {
    "name": "ipython",
    "version": 3
   },
   "file_extension": ".py",
   "mimetype": "text/x-python",
   "name": "python",
   "nbconvert_exporter": "python",
   "pygments_lexer": "ipython3",
   "version": "3.7.5"
  }
 },
 "nbformat": 4,
 "nbformat_minor": 4
}
