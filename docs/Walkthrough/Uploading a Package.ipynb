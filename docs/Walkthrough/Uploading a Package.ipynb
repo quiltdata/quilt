{
 "cells": [
  {
   "cell_type": "markdown",
   "metadata": {},
   "source": [
    "Once your package is ready it's time to save and distribute it.\n",
    "\n",
    "## Saving a package manifest locally\n",
    "\n",
    "To save a package to your local disk use `build`."
   ]
  },
  {
   "cell_type": "code",
   "execution_count": null,
   "metadata": {},
   "outputs": [],
   "source": [
    "import quilt3\n",
    "p = quilt3.Package()\n",
    "\n",
    "top_hash = p.build(\"username/packagename\")"
   ]
  },
  {
   "cell_type": "markdown",
   "metadata": {},
   "source": [
    "Building a package requires providing it with a name. Packages names must follow the `\"${namespace}/${packagename}\"` format. For small teams, we recommend using the package author's name as the namespace.\n",
    "\n",
    "## Authenticating to a remote registry\n",
    "\n",
    "To share a package with others via a remote registry you will first need to authenticate against, if you haven't done so already:"
   ]
  },
  {
   "cell_type": "code",
   "execution_count": null,
   "metadata": {},
   "outputs": [],
   "source": [
    "# only need to run this once\n",
    "# ie quilt3.config('https://your-catalog-homepage/')\n",
    "quilt3.config('https://open.quiltdata.com/')\n",
    "\n",
    "# follow the instructions to finish login\n",
    "quilt3.login()"
   ]
  },
  {
   "cell_type": "markdown",
   "metadata": {},
   "source": [
    "## Pushing a package to a remote registry\n",
    "\n",
    "To share a package with others via a remote registry, use `push`:"
   ]
  },
  {
   "cell_type": "code",
   "execution_count": null,
   "metadata": {},
   "outputs": [],
   "source": [
    "p = quilt3.Package()\n",
    "\n",
    "# push(\"username/packagename\", \"s3://your-bucket\", \"message\")\n",
    "p.push(\n",
    "    \"foo/bar\",\n",
    "    \"s3://quilt-example\",\n",
    "    message=\"Updated version my package\"\n",
    ")"
   ]
  },
  {
   "cell_type": "markdown",
   "metadata": {},
   "source": [
    "`s3://your-bucket` is the *registry*&mdash;the storage backend that the package is available from.\n",
    "\n",
    "You can omit the registry argument if you configure a `default_remote_registry` (this setting persists between sessions):"
   ]
  },
  {
   "cell_type": "code",
   "execution_count": null,
   "metadata": {},
   "outputs": [],
   "source": [
    "quilt3.config(default_remote_registry='s3://quilt-example')\n",
    "p = quilt3.Package()\n",
    "p.push(\"foo/bar\") "
   ]
  },
  {
   "cell_type": "markdown",
   "metadata": {},
   "source": [
    "You can control where files land using `dest`:"
   ]
  },
  {
   "cell_type": "code",
   "execution_count": null,
   "metadata": {},
   "outputs": [],
   "source": [
    "p = quilt3.Package()\n",
    "p.push(\n",
    "    \"username/packagename\",\n",
    "    dest=\"s3://quilt-example/foo/bar\"\n",
    ")"
   ]
  },
  {
   "cell_type": "markdown",
   "metadata": {},
   "source": [
    "> For even more fine-grained control of object landing paths see [Materialization](../Advanced%20Features/Materialization.md).\n",
    "\n",
    "## Saving a package on a remote registry\n",
    "\n",
    "`push` will send both a package manifest and its data to a remote registry. This will involve copying your data to S3. To save just the package manifest to S3 without any data copying, use `build`:"
   ]
  },
  {
   "cell_type": "code",
   "execution_count": null,
   "metadata": {},
   "outputs": [],
   "source": [
    "p = quilt3.Package()\n",
    "p.build(\"foo/bar\", \"s3://quilt-example\")"
   ]
  },
  {
   "cell_type": "markdown",
   "metadata": {},
   "source": [
    "This will create a new version of your package with all of its physical keys preserved.\n",
    "\n",
    "## Delete a package from a registry\n",
    "\n",
    "To delete a package from a registry:"
   ]
  },
  {
   "cell_type": "code",
   "execution_count": null,
   "metadata": {},
   "outputs": [],
   "source": [
    "# delete a package in the local registry\n",
    "quilt3.delete_package(\"foo/bar\")\n",
    "\n",
    "# delete a package in a remote registry\n",
    "quilt3.delete_package(\"foo/bar\", \"s3://quilt-example\")"
   ]
  },
  {
   "cell_type": "markdown",
   "metadata": {},
   "source": [
    "Note that this will not delete any package data, only the package manifest."
   ]
  }
 ],
 "metadata": {
  "kernelspec": {
   "display_name": "Python 3",
   "language": "python",
   "name": "python3"
  },
  "language_info": {
   "codemirror_mode": {
    "name": "ipython",
    "version": 3
   },
   "file_extension": ".py",
   "mimetype": "text/x-python",
   "name": "python",
   "nbconvert_exporter": "python",
   "pygments_lexer": "ipython3",
   "version": "3.7.5"
  }
 },
 "nbformat": 4,
 "nbformat_minor": 4
}
