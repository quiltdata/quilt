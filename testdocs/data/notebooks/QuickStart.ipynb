{
 "cells": [
  {
   "cell_type": "markdown",
   "metadata": {},
   "source": [
    "This notebook is a quick introduction to the Quilt 3 (formerly Quilt 4) Python API.\n",
    "\n",
    "[You can run this notebook yourself using Binder](https://mybinder.org/v2/gh/quiltdata/hurdat/master?filepath=notebooks%2FQuickStart.ipynb). Alternatively you may [clone the git repo](https://github.com/quiltdata/hurdat).\n",
    "\n",
    "## Installation\n",
    "\n",
    "To get started, you will first need to [install the `quilt3` Python client](https://docs.quiltdata.com/installation#python-client). This as easy as `pip install quilt3`.\n",
    "\n",
    "If you're following along interactively, make sure you also have push access to an S3 bucket.\n",
    "\n",
    "Then, import it into the environment:"
   ]
  },
  {
   "cell_type": "code",
   "execution_count": 1,
   "metadata": {},
   "outputs": [],
   "source": [
    "import quilt3"
   ]
  },
  {
   "cell_type": "code",
   "execution_count": null,
   "metadata": {},
   "outputs": [],
   "source": [
    "!mkdir ../data/"
   ]
  },
  {
   "cell_type": "markdown",
   "metadata": {},
   "source": [
    "## Data"
   ]
  },
  {
   "cell_type": "markdown",
   "metadata": {},
   "source": [
    "We'll also need some data. For the purposes of this demo, I wrote a small script that builds a clean copy of an NOAA hurricane dataset known as [HURDAT](https://www.nhc.noaa.gov/data/). You can see the code for yourself by uncommenting the following code cell:"
   ]
  },
  {
   "cell_type": "code",
   "execution_count": 3,
   "metadata": {},
   "outputs": [],
   "source": [
    "# %load ../scripts/build.py"
   ]
  },
  {
   "cell_type": "markdown",
   "metadata": {},
   "source": [
    "If you are following along with the code, you can re-run this cell to generate this dataset yourself.\n",
    "\n",
    "This script generates a history of Atlantic hurricanes in a `pandas` `DataFrame`:"
   ]
  },
  {
   "cell_type": "code",
   "execution_count": 4,
   "metadata": {},
   "outputs": [
    {
     "data": {
      "text/html": [
       "<div>\n",
       "<style scoped>\n",
       "    .dataframe tbody tr th:only-of-type {\n",
       "        vertical-align: middle;\n",
       "    }\n",
       "\n",
       "    .dataframe tbody tr th {\n",
       "        vertical-align: top;\n",
       "    }\n",
       "\n",
       "    .dataframe thead th {\n",
       "        text-align: right;\n",
       "    }\n",
       "</style>\n",
       "<table border=\"1\" class=\"dataframe\">\n",
       "  <thead>\n",
       "    <tr style=\"text-align: right;\">\n",
       "      <th></th>\n",
       "      <th>id</th>\n",
       "      <th>name</th>\n",
       "      <th>date</th>\n",
       "      <th>record_identifier</th>\n",
       "      <th>status_of_system</th>\n",
       "      <th>latitude</th>\n",
       "      <th>longitude</th>\n",
       "      <th>maximum_sustained_wind_knots</th>\n",
       "      <th>maximum_pressure</th>\n",
       "      <th>34_kt_ne</th>\n",
       "      <th>...</th>\n",
       "      <th>34_kt_sw</th>\n",
       "      <th>34_kt_nw</th>\n",
       "      <th>50_kt_ne</th>\n",
       "      <th>50_kt_se</th>\n",
       "      <th>50_kt_sw</th>\n",
       "      <th>50_kt_nw</th>\n",
       "      <th>64_kt_ne</th>\n",
       "      <th>64_kt_se</th>\n",
       "      <th>64_kt_sw</th>\n",
       "      <th>64_kt_nw</th>\n",
       "    </tr>\n",
       "  </thead>\n",
       "  <tbody>\n",
       "    <tr>\n",
       "      <th>0</th>\n",
       "      <td>AL011851</td>\n",
       "      <td>UNNAMED</td>\n",
       "      <td>1851-06-25 00:00:00</td>\n",
       "      <td>NaN</td>\n",
       "      <td>HU</td>\n",
       "      <td>28.0</td>\n",
       "      <td>-94.8</td>\n",
       "      <td>80</td>\n",
       "      <td>NaN</td>\n",
       "      <td>NaN</td>\n",
       "      <td>...</td>\n",
       "      <td>NaN</td>\n",
       "      <td>NaN</td>\n",
       "      <td>NaN</td>\n",
       "      <td>NaN</td>\n",
       "      <td>NaN</td>\n",
       "      <td>NaN</td>\n",
       "      <td>NaN</td>\n",
       "      <td>NaN</td>\n",
       "      <td>NaN</td>\n",
       "      <td>NaN</td>\n",
       "    </tr>\n",
       "    <tr>\n",
       "      <th>1</th>\n",
       "      <td>AL011851</td>\n",
       "      <td>UNNAMED</td>\n",
       "      <td>1851-06-25 06:00:00</td>\n",
       "      <td>NaN</td>\n",
       "      <td>HU</td>\n",
       "      <td>28.0</td>\n",
       "      <td>-95.4</td>\n",
       "      <td>80</td>\n",
       "      <td>NaN</td>\n",
       "      <td>NaN</td>\n",
       "      <td>...</td>\n",
       "      <td>NaN</td>\n",
       "      <td>NaN</td>\n",
       "      <td>NaN</td>\n",
       "      <td>NaN</td>\n",
       "      <td>NaN</td>\n",
       "      <td>NaN</td>\n",
       "      <td>NaN</td>\n",
       "      <td>NaN</td>\n",
       "      <td>NaN</td>\n",
       "      <td>NaN</td>\n",
       "    </tr>\n",
       "    <tr>\n",
       "      <th>2</th>\n",
       "      <td>AL011851</td>\n",
       "      <td>UNNAMED</td>\n",
       "      <td>1851-06-25 12:00:00</td>\n",
       "      <td>NaN</td>\n",
       "      <td>HU</td>\n",
       "      <td>28.0</td>\n",
       "      <td>-96.0</td>\n",
       "      <td>80</td>\n",
       "      <td>NaN</td>\n",
       "      <td>NaN</td>\n",
       "      <td>...</td>\n",
       "      <td>NaN</td>\n",
       "      <td>NaN</td>\n",
       "      <td>NaN</td>\n",
       "      <td>NaN</td>\n",
       "      <td>NaN</td>\n",
       "      <td>NaN</td>\n",
       "      <td>NaN</td>\n",
       "      <td>NaN</td>\n",
       "      <td>NaN</td>\n",
       "      <td>NaN</td>\n",
       "    </tr>\n",
       "    <tr>\n",
       "      <th>3</th>\n",
       "      <td>AL011851</td>\n",
       "      <td>UNNAMED</td>\n",
       "      <td>1851-06-25 18:00:00</td>\n",
       "      <td>NaN</td>\n",
       "      <td>HU</td>\n",
       "      <td>28.1</td>\n",
       "      <td>-96.5</td>\n",
       "      <td>80</td>\n",
       "      <td>NaN</td>\n",
       "      <td>NaN</td>\n",
       "      <td>...</td>\n",
       "      <td>NaN</td>\n",
       "      <td>NaN</td>\n",
       "      <td>NaN</td>\n",
       "      <td>NaN</td>\n",
       "      <td>NaN</td>\n",
       "      <td>NaN</td>\n",
       "      <td>NaN</td>\n",
       "      <td>NaN</td>\n",
       "      <td>NaN</td>\n",
       "      <td>NaN</td>\n",
       "    </tr>\n",
       "    <tr>\n",
       "      <th>4</th>\n",
       "      <td>AL011851</td>\n",
       "      <td>UNNAMED</td>\n",
       "      <td>1851-06-25 21:00:00</td>\n",
       "      <td>L</td>\n",
       "      <td>HU</td>\n",
       "      <td>28.2</td>\n",
       "      <td>-96.8</td>\n",
       "      <td>80</td>\n",
       "      <td>NaN</td>\n",
       "      <td>NaN</td>\n",
       "      <td>...</td>\n",
       "      <td>NaN</td>\n",
       "      <td>NaN</td>\n",
       "      <td>NaN</td>\n",
       "      <td>NaN</td>\n",
       "      <td>NaN</td>\n",
       "      <td>NaN</td>\n",
       "      <td>NaN</td>\n",
       "      <td>NaN</td>\n",
       "      <td>NaN</td>\n",
       "      <td>NaN</td>\n",
       "    </tr>\n",
       "  </tbody>\n",
       "</table>\n",
       "<p>5 rows × 21 columns</p>\n",
       "</div>"
      ],
      "text/plain": [
       "         id     name                 date record_identifier status_of_system  \\\n",
       "0  AL011851  UNNAMED  1851-06-25 00:00:00               NaN               HU   \n",
       "1  AL011851  UNNAMED  1851-06-25 06:00:00               NaN               HU   \n",
       "2  AL011851  UNNAMED  1851-06-25 12:00:00               NaN               HU   \n",
       "3  AL011851  UNNAMED  1851-06-25 18:00:00               NaN               HU   \n",
       "4  AL011851  UNNAMED  1851-06-25 21:00:00                 L               HU   \n",
       "\n",
       "   latitude  longitude  maximum_sustained_wind_knots  maximum_pressure  \\\n",
       "0      28.0      -94.8                            80               NaN   \n",
       "1      28.0      -95.4                            80               NaN   \n",
       "2      28.0      -96.0                            80               NaN   \n",
       "3      28.1      -96.5                            80               NaN   \n",
       "4      28.2      -96.8                            80               NaN   \n",
       "\n",
       "   34_kt_ne  ...  34_kt_sw  34_kt_nw  50_kt_ne  50_kt_se  50_kt_sw  50_kt_nw  \\\n",
       "0       NaN  ...       NaN       NaN       NaN       NaN       NaN       NaN   \n",
       "1       NaN  ...       NaN       NaN       NaN       NaN       NaN       NaN   \n",
       "2       NaN  ...       NaN       NaN       NaN       NaN       NaN       NaN   \n",
       "3       NaN  ...       NaN       NaN       NaN       NaN       NaN       NaN   \n",
       "4       NaN  ...       NaN       NaN       NaN       NaN       NaN       NaN   \n",
       "\n",
       "   64_kt_ne  64_kt_se  64_kt_sw  64_kt_nw  \n",
       "0       NaN       NaN       NaN       NaN  \n",
       "1       NaN       NaN       NaN       NaN  \n",
       "2       NaN       NaN       NaN       NaN  \n",
       "3       NaN       NaN       NaN       NaN  \n",
       "4       NaN       NaN       NaN       NaN  \n",
       "\n",
       "[5 rows x 21 columns]"
      ]
     },
     "execution_count": 4,
     "metadata": {},
     "output_type": "execute_result"
    }
   ],
   "source": [
    "import pandas as pd\n",
    "atlantic_storms = pd.read_csv(\"../data/atlantic-storms.csv\")\n",
    "atlantic_storms.head()"
   ]
  },
  {
   "cell_type": "markdown",
   "metadata": {},
   "source": [
    "## Data packages\n",
    "\n",
    "The core construct in Quilt is the **data package**. A data package is a collection of individual files which are meaningful when considered as a whole. A data package includes raw data files, metadata describing the raw data files, and anything else you think is meaningful.\n",
    "\n",
    "Data packages make it easy to share data assets across the team. We'll use the small HURDAT dataset we just built to demonstrate how they work.\n",
    "\n",
    "To initialize an in-memory data package:"
   ]
  },
  {
   "cell_type": "code",
   "execution_count": 5,
   "metadata": {},
   "outputs": [],
   "source": [
    "hurdat = quilt3.Package()"
   ]
  },
  {
   "cell_type": "markdown",
   "metadata": {},
   "source": [
    "To add a file to a package, use `set`:"
   ]
  },
  {
   "cell_type": "code",
   "execution_count": 6,
   "metadata": {},
   "outputs": [
    {
     "data": {
      "text/plain": [
       "(local Package)\n",
       " └─data/\n",
       "   └─atlantic-storms.csv"
      ]
     },
     "execution_count": 6,
     "metadata": {},
     "output_type": "execute_result"
    }
   ],
   "source": [
    "hurdat.set('data/atlantic-storms.csv', '../data/atlantic-storms.csv')\n",
    "hurdat"
   ]
  },
  {
   "cell_type": "markdown",
   "metadata": {},
   "source": [
    "To capture everything in a folder, use `set_dir`:"
   ]
  },
  {
   "cell_type": "code",
   "execution_count": 7,
   "metadata": {},
   "outputs": [
    {
     "data": {
      "text/plain": [
       "(local Package)\n",
       " └─.gitignore\n",
       " └─.quiltignore\n",
       " └─data/\n",
       "   └─atlantic-storms.csv\n",
       " └─notebooks/\n",
       "   └─QuickStart.ipynb\n",
       " └─quilt_summarize.json\n",
       " └─requirements.txt\n",
       " └─scripts/\n",
       "   └─build.py"
      ]
     },
     "execution_count": 7,
     "metadata": {},
     "output_type": "execute_result"
    }
   ],
   "source": [
    "hurdat = quilt3.Package().set_dir('/', '../')\n",
    "hurdat"
   ]
  },
  {
   "cell_type": "markdown",
   "metadata": {},
   "source": [
    "For neatness, we recommend sorting the resources in your package into different directories by type, e.g. by using the [cookiecutter data science pattern](https://github.com/drivendata/cookiecutter-data-science)."
   ]
  },
  {
   "cell_type": "code",
   "execution_count": 8,
   "metadata": {},
   "outputs": [
    {
     "data": {
      "text/plain": [
       "(local Package)\n",
       " └─data/\n",
       "   └─atlantic-storms.csv\n",
       " └─notebooks/\n",
       "   └─QuickStart.ipynb\n",
       " └─quilt_summarize.json\n",
       " └─scripts/\n",
       "   └─build.py"
      ]
     },
     "execution_count": 8,
     "metadata": {},
     "output_type": "execute_result"
    }
   ],
   "source": [
    "hurdat = (quilt3.Package()\n",
    "          .set('data/atlantic-storms.csv', '../data/atlantic-storms.csv')\n",
    "          .set('scripts/build.py', '../scripts/build.py')\n",
    "          # the following set operation may fail if you are on Binder, if it does, comment it out\n",
    "          .set('notebooks/QuickStart.ipynb', '../notebooks/Quickstart.ipynb')\n",
    "          .set('quilt_summarize.json', '../quilt_summarize.json')\n",
    "         )\n",
    "hurdat"
   ]
  },
  {
   "cell_type": "markdown",
   "metadata": {},
   "source": [
    "All of packages, package directories, and package entries support metadata. You can attach metadata by passing a `meta` parameter to `set` or `set_dir`, or by using the dedicated `set_meta` method."
   ]
  },
  {
   "cell_type": "code",
   "execution_count": 9,
   "metadata": {},
   "outputs": [
    {
     "data": {
      "text/plain": [
       "(local Package)\n",
       " └─data/\n",
       "   └─atlantic-storms.csv\n",
       " └─notebooks/\n",
       "   └─QuickStart.ipynb\n",
       " └─quilt_summarize.json\n",
       " └─scripts/\n",
       "   └─build.py"
      ]
     },
     "execution_count": 9,
     "metadata": {},
     "output_type": "execute_result"
    }
   ],
   "source": [
    "# to set metadata on a package entry\n",
    "hurdat = hurdat.set('data/atlantic-storms.csv', '../data/atlantic-storms.csv',\n",
    "                    meta={'source': 'NOAA', 'homepage': 'https://www.nhc.noaa.gov/data/'})\n",
    "\n",
    "# to set metadata on a package\n",
    "hurdat = hurdat.set_meta({'author': 'aleksey@', 'resource-type': 'demo'})\n",
    "\n",
    "hurdat"
   ]
  },
  {
   "cell_type": "markdown",
   "metadata": {},
   "source": [
    "## Publishing packages"
   ]
  },
  {
   "cell_type": "markdown",
   "metadata": {},
   "source": [
    "Data is no use if it's hanging around on your machine. If you're building a data package, it's probably doing it because you want to share that data with the rest of your team!\n",
    "\n",
    "The `push` command lets you take a package that you have locally and push it to your team's catalog. A Quilt 3 **catalog** sits on top of an S3 bucket and gives you features useful for data scientists in a web interface. If you're looking at this file on [open.quiltdata.com](https://open.quiltdata.com/), you're browsing a catalog right now!\n",
    "\n",
    "**Note**: the following line of code will only work if you have push access to our demo catalog. You can replace `s3://quilt-example` with any bucket you have access to."
   ]
  },
  {
   "cell_type": "code",
   "execution_count": 10,
   "metadata": {},
   "outputs": [
    {
     "name": "stderr",
     "output_type": "stream",
     "text": [
      "Hashing: 100%|██████████| 3.62M/3.62M [00:00<00:00, 123MB/s]\n",
      "Copying: 100%|██████████| 3.62M/3.62M [00:01<00:00, 3.21MB/s]\n"
     ]
    },
    {
     "data": {
      "text/plain": [
       "(remote Package)\n",
       " └─data/\n",
       "   └─atlantic-storms.csv\n",
       " └─notebooks/\n",
       "   └─QuickStart.ipynb\n",
       " └─quilt_summarize.json\n",
       " └─scripts/\n",
       "   └─build.py"
      ]
     },
     "execution_count": 10,
     "metadata": {},
     "output_type": "execute_result"
    }
   ],
   "source": [
    "hurdat.push('examples/hurdat', 's3://quilt-example', message=\"Updated example\")"
   ]
  },
  {
   "cell_type": "markdown",
   "metadata": {},
   "source": [
    "Other users will now be able to view the packages (and package versions) available on a catalog using `quilt3.list_packages`."
   ]
  },
  {
   "cell_type": "code",
   "execution_count": 11,
   "metadata": {},
   "outputs": [
    {
     "data": {
      "text/plain": [
       "['akarve/amazon-reviews',\n",
       " 'akarve/cbre',\n",
       " 'akarve/gpt-2-output-dataset',\n",
       " 'akarve/heterogeneous',\n",
       " 'akarve/many-revisions',\n",
       " 'akarve/pytorch-intro',\n",
       " 'akarve/reinforcement-learning',\n",
       " 'akarve/s3-funk',\n",
       " 'akarve/sample_jupyter_notebooks',\n",
       " 'akarve/xgboost_abalone',\n",
       " 'aleksey/fashion_mnist',\n",
       " 'aleksey/file_previews',\n",
       " 'aleksey/hurdat',\n",
       " 'aleksey/yellowbrick_x_keras',\n",
       " 'dima/q',\n",
       " 'examples/hurdat',\n",
       " 'quilt/altair',\n",
       " 'quilt/hurdat',\n",
       " 'quilt/open_fruit',\n",
       " 'quilt/open_images',\n",
       " 'robnewman/honey_bees',\n",
       " 'robnewman/us_county_smoking_vs_poverty']"
      ]
     },
     "execution_count": 11,
     "metadata": {},
     "output_type": "execute_result"
    }
   ],
   "source": [
    "list(quilt3.list_packages('s3://quilt-example'))"
   ]
  },
  {
   "cell_type": "markdown",
   "metadata": {},
   "source": [
    "## Installing packages"
   ]
  },
  {
   "cell_type": "markdown",
   "metadata": {},
   "source": [
    "Use `quilt3.Package.install` to download the latest version of a package from a catalog."
   ]
  },
  {
   "cell_type": "code",
   "execution_count": 12,
   "metadata": {},
   "outputs": [
    {
     "name": "stderr",
     "output_type": "stream",
     "text": [
      "Copying: 100%|██████████| 3.62M/3.62M [00:01<00:00, 3.00MB/s]\n"
     ]
    },
    {
     "data": {
      "text/plain": [
       "(local Package)\n",
       " └─data/\n",
       "   └─atlantic-storms.csv\n",
       " └─notebooks/\n",
       "   └─QuickStart.ipynb\n",
       " └─quilt_summarize.json\n",
       " └─scripts/\n",
       "   └─build.py"
      ]
     },
     "execution_count": 12,
     "metadata": {},
     "output_type": "execute_result"
    }
   ],
   "source": [
    "hurdat = quilt3.Package.install('examples/hurdat', 's3://quilt-example')\n",
    "hurdat"
   ]
  },
  {
   "cell_type": "markdown",
   "metadata": {},
   "source": [
    "To download a *specific* vesion of a package, provide the corresponding `top_hash`.\n",
    "\n",
    "To specify, a target directory for a package, provide a `dest`."
   ]
  },
  {
   "cell_type": "code",
   "execution_count": 13,
   "metadata": {},
   "outputs": [
    {
     "name": "stderr",
     "output_type": "stream",
     "text": [
      "Copying: 100%|██████████| 3.62M/3.62M [00:01<00:00, 3.55MB/s]\n"
     ]
    },
    {
     "data": {
      "text/plain": [
       "(local Package)\n",
       " └─data/\n",
       "   └─atlantic-storms.csv\n",
       " └─notebooks/\n",
       "   └─QuickStart.ipynb\n",
       " └─quilt_summarize.json\n",
       " └─scripts/\n",
       "   └─build.py"
      ]
     },
     "execution_count": 13,
     "metadata": {},
     "output_type": "execute_result"
    }
   ],
   "source": [
    "# to install a specific version of this package to a local directory\n",
    "quilt3.Package.install(\n",
    "    'quilt/hurdat',\n",
    "    top_hash='d3541062d8f303644bfdc0052f515d25e74ef79fadbfbf02ec0ab9215af0891c',\n",
    "    dest='/a/local/path'\n",
    ")"
   ]
  },
  {
   "cell_type": "markdown",
   "metadata": {},
   "source": [
    "With Quilt once you have a package localized, you can load the package directly into memory in a Python program using an `import` statement:"
   ]
  },
  {
   "cell_type": "code",
   "execution_count": 15,
   "metadata": {},
   "outputs": [
    {
     "data": {
      "text/plain": [
       "(local Package)\n",
       " └─data/\n",
       "   └─atlantic-storms.csv\n",
       " └─notebooks/\n",
       "   └─QuickStart.ipynb\n",
       " └─quilt_summarize.json\n",
       " └─scripts/\n",
       "   └─build.py"
      ]
     },
     "execution_count": 15,
     "metadata": {},
     "output_type": "execute_result"
    }
   ],
   "source": [
    "from quilt3.data.examples import hurdat\n",
    "hurdat"
   ]
  },
  {
   "cell_type": "markdown",
   "metadata": {},
   "source": [
    "To see the list of packages you have installed, run `quilt3.list_packages` without any parameters."
   ]
  },
  {
   "cell_type": "code",
   "execution_count": 19,
   "metadata": {},
   "outputs": [
    {
     "data": {
      "text/plain": [
       "['quilt/Empty',\n",
       " 'quilt/altair',\n",
       " 'quilt/hurdat',\n",
       " 'quilt/Package',\n",
       " 'examples/hurdat',\n",
       " 'census/tracts_cartographic',\n",
       " 'akarve/example',\n",
       " 'akarve/cbre',\n",
       " 'akarve/test3',\n",
       " 'aleksey/hurdat']"
      ]
     },
     "execution_count": 19,
     "metadata": {},
     "output_type": "execute_result"
    }
   ],
   "source": [
    "list(quilt3.list_packages())"
   ]
  },
  {
   "cell_type": "markdown",
   "metadata": {},
   "source": [
    "## Consuming packages"
   ]
  },
  {
   "cell_type": "markdown",
   "metadata": {},
   "source": [
    "Once you have the package localized, you can consume it. Packages mimic `dict` objects in their behavior. So to introspect a package, key into it."
   ]
  },
  {
   "cell_type": "code",
   "execution_count": 20,
   "metadata": {},
   "outputs": [
    {
     "data": {
      "text/plain": [
       "(local Package)\n",
       " └─atlantic-storms.csv"
      ]
     },
     "execution_count": 20,
     "metadata": {},
     "output_type": "execute_result"
    }
   ],
   "source": [
    "hurdat['data']"
   ]
  },
  {
   "cell_type": "code",
   "execution_count": 21,
   "metadata": {},
   "outputs": [
    {
     "data": {
      "text/plain": [
       "PackageEntry('file:///Users/karve/Desktop/outboy/data/atlantic-storms.csv')"
      ]
     },
     "execution_count": 21,
     "metadata": {},
     "output_type": "execute_result"
    }
   ],
   "source": [
    "hurdat['data']['atlantic-storms.csv']"
   ]
  },
  {
   "cell_type": "markdown",
   "metadata": {},
   "source": [
    "Packages and parts of packages support a variety of operations. The most important ones are `fetch`, which will copy (or download) a file or directory to your local disk, and `deserialize`, which will read the file into memory."
   ]
  },
  {
   "cell_type": "code",
   "execution_count": 22,
   "metadata": {
    "scrolled": true
   },
   "outputs": [
    {
     "name": "stderr",
     "output_type": "stream",
     "text": [
      "Copying: 100%|██████████| 3.58M/3.58M [00:00<00:00, 350MB/s]\n"
     ]
    },
    {
     "data": {
      "text/plain": [
       "PackageEntry('file:///Users/karve/Desktop/tmp-docs-fix/notebooks/atlantic-storms.csv')"
      ]
     },
     "execution_count": 22,
     "metadata": {},
     "output_type": "execute_result"
    }
   ],
   "source": [
    "# pass a parameter to copy/download to a specific location\n",
    "hurdat['data']['atlantic-storms.csv'].fetch()"
   ]
  },
  {
   "cell_type": "code",
   "execution_count": 23,
   "metadata": {
    "scrolled": false
   },
   "outputs": [
    {
     "data": {
      "text/html": [
       "<div>\n",
       "<style scoped>\n",
       "    .dataframe tbody tr th:only-of-type {\n",
       "        vertical-align: middle;\n",
       "    }\n",
       "\n",
       "    .dataframe tbody tr th {\n",
       "        vertical-align: top;\n",
       "    }\n",
       "\n",
       "    .dataframe thead th {\n",
       "        text-align: right;\n",
       "    }\n",
       "</style>\n",
       "<table border=\"1\" class=\"dataframe\">\n",
       "  <thead>\n",
       "    <tr style=\"text-align: right;\">\n",
       "      <th></th>\n",
       "      <th>id</th>\n",
       "      <th>name</th>\n",
       "      <th>date</th>\n",
       "      <th>record_identifier</th>\n",
       "      <th>status_of_system</th>\n",
       "      <th>latitude</th>\n",
       "      <th>longitude</th>\n",
       "      <th>maximum_sustained_wind_knots</th>\n",
       "      <th>maximum_pressure</th>\n",
       "      <th>34_kt_ne</th>\n",
       "      <th>...</th>\n",
       "      <th>34_kt_sw</th>\n",
       "      <th>34_kt_nw</th>\n",
       "      <th>50_kt_ne</th>\n",
       "      <th>50_kt_se</th>\n",
       "      <th>50_kt_sw</th>\n",
       "      <th>50_kt_nw</th>\n",
       "      <th>64_kt_ne</th>\n",
       "      <th>64_kt_se</th>\n",
       "      <th>64_kt_sw</th>\n",
       "      <th>64_kt_nw</th>\n",
       "    </tr>\n",
       "  </thead>\n",
       "  <tbody>\n",
       "    <tr>\n",
       "      <th>0</th>\n",
       "      <td>AL011851</td>\n",
       "      <td>UNNAMED</td>\n",
       "      <td>1851-06-25 00:00:00</td>\n",
       "      <td>NaN</td>\n",
       "      <td>HU</td>\n",
       "      <td>28.0</td>\n",
       "      <td>-94.8</td>\n",
       "      <td>80</td>\n",
       "      <td>NaN</td>\n",
       "      <td>NaN</td>\n",
       "      <td>...</td>\n",
       "      <td>NaN</td>\n",
       "      <td>NaN</td>\n",
       "      <td>NaN</td>\n",
       "      <td>NaN</td>\n",
       "      <td>NaN</td>\n",
       "      <td>NaN</td>\n",
       "      <td>NaN</td>\n",
       "      <td>NaN</td>\n",
       "      <td>NaN</td>\n",
       "      <td>NaN</td>\n",
       "    </tr>\n",
       "    <tr>\n",
       "      <th>1</th>\n",
       "      <td>AL011851</td>\n",
       "      <td>UNNAMED</td>\n",
       "      <td>1851-06-25 06:00:00</td>\n",
       "      <td>NaN</td>\n",
       "      <td>HU</td>\n",
       "      <td>28.0</td>\n",
       "      <td>-95.4</td>\n",
       "      <td>80</td>\n",
       "      <td>NaN</td>\n",
       "      <td>NaN</td>\n",
       "      <td>...</td>\n",
       "      <td>NaN</td>\n",
       "      <td>NaN</td>\n",
       "      <td>NaN</td>\n",
       "      <td>NaN</td>\n",
       "      <td>NaN</td>\n",
       "      <td>NaN</td>\n",
       "      <td>NaN</td>\n",
       "      <td>NaN</td>\n",
       "      <td>NaN</td>\n",
       "      <td>NaN</td>\n",
       "    </tr>\n",
       "    <tr>\n",
       "      <th>2</th>\n",
       "      <td>AL011851</td>\n",
       "      <td>UNNAMED</td>\n",
       "      <td>1851-06-25 12:00:00</td>\n",
       "      <td>NaN</td>\n",
       "      <td>HU</td>\n",
       "      <td>28.0</td>\n",
       "      <td>-96.0</td>\n",
       "      <td>80</td>\n",
       "      <td>NaN</td>\n",
       "      <td>NaN</td>\n",
       "      <td>...</td>\n",
       "      <td>NaN</td>\n",
       "      <td>NaN</td>\n",
       "      <td>NaN</td>\n",
       "      <td>NaN</td>\n",
       "      <td>NaN</td>\n",
       "      <td>NaN</td>\n",
       "      <td>NaN</td>\n",
       "      <td>NaN</td>\n",
       "      <td>NaN</td>\n",
       "      <td>NaN</td>\n",
       "    </tr>\n",
       "    <tr>\n",
       "      <th>3</th>\n",
       "      <td>AL011851</td>\n",
       "      <td>UNNAMED</td>\n",
       "      <td>1851-06-25 18:00:00</td>\n",
       "      <td>NaN</td>\n",
       "      <td>HU</td>\n",
       "      <td>28.1</td>\n",
       "      <td>-96.5</td>\n",
       "      <td>80</td>\n",
       "      <td>NaN</td>\n",
       "      <td>NaN</td>\n",
       "      <td>...</td>\n",
       "      <td>NaN</td>\n",
       "      <td>NaN</td>\n",
       "      <td>NaN</td>\n",
       "      <td>NaN</td>\n",
       "      <td>NaN</td>\n",
       "      <td>NaN</td>\n",
       "      <td>NaN</td>\n",
       "      <td>NaN</td>\n",
       "      <td>NaN</td>\n",
       "      <td>NaN</td>\n",
       "    </tr>\n",
       "    <tr>\n",
       "      <th>4</th>\n",
       "      <td>AL011851</td>\n",
       "      <td>UNNAMED</td>\n",
       "      <td>1851-06-25 21:00:00</td>\n",
       "      <td>L</td>\n",
       "      <td>HU</td>\n",
       "      <td>28.2</td>\n",
       "      <td>-96.8</td>\n",
       "      <td>80</td>\n",
       "      <td>NaN</td>\n",
       "      <td>NaN</td>\n",
       "      <td>...</td>\n",
       "      <td>NaN</td>\n",
       "      <td>NaN</td>\n",
       "      <td>NaN</td>\n",
       "      <td>NaN</td>\n",
       "      <td>NaN</td>\n",
       "      <td>NaN</td>\n",
       "      <td>NaN</td>\n",
       "      <td>NaN</td>\n",
       "      <td>NaN</td>\n",
       "      <td>NaN</td>\n",
       "    </tr>\n",
       "  </tbody>\n",
       "</table>\n",
       "<p>5 rows × 21 columns</p>\n",
       "</div>"
      ],
      "text/plain": [
       "         id     name                 date record_identifier status_of_system  \\\n",
       "0  AL011851  UNNAMED  1851-06-25 00:00:00               NaN               HU   \n",
       "1  AL011851  UNNAMED  1851-06-25 06:00:00               NaN               HU   \n",
       "2  AL011851  UNNAMED  1851-06-25 12:00:00               NaN               HU   \n",
       "3  AL011851  UNNAMED  1851-06-25 18:00:00               NaN               HU   \n",
       "4  AL011851  UNNAMED  1851-06-25 21:00:00                 L               HU   \n",
       "\n",
       "   latitude  longitude  maximum_sustained_wind_knots  maximum_pressure  \\\n",
       "0      28.0      -94.8                            80               NaN   \n",
       "1      28.0      -95.4                            80               NaN   \n",
       "2      28.0      -96.0                            80               NaN   \n",
       "3      28.1      -96.5                            80               NaN   \n",
       "4      28.2      -96.8                            80               NaN   \n",
       "\n",
       "   34_kt_ne  ...  34_kt_sw  34_kt_nw  50_kt_ne  50_kt_se  50_kt_sw  50_kt_nw  \\\n",
       "0       NaN  ...       NaN       NaN       NaN       NaN       NaN       NaN   \n",
       "1       NaN  ...       NaN       NaN       NaN       NaN       NaN       NaN   \n",
       "2       NaN  ...       NaN       NaN       NaN       NaN       NaN       NaN   \n",
       "3       NaN  ...       NaN       NaN       NaN       NaN       NaN       NaN   \n",
       "4       NaN  ...       NaN       NaN       NaN       NaN       NaN       NaN   \n",
       "\n",
       "   64_kt_ne  64_kt_se  64_kt_sw  64_kt_nw  \n",
       "0       NaN       NaN       NaN       NaN  \n",
       "1       NaN       NaN       NaN       NaN  \n",
       "2       NaN       NaN       NaN       NaN  \n",
       "3       NaN       NaN       NaN       NaN  \n",
       "4       NaN       NaN       NaN       NaN  \n",
       "\n",
       "[5 rows x 21 columns]"
      ]
     },
     "execution_count": 23,
     "metadata": {},
     "output_type": "execute_result"
    }
   ],
   "source": [
    "hurdat['data']['atlantic-storms.csv'].deserialize()\\\n",
    "    .head()"
   ]
  },
  {
   "cell_type": "markdown",
   "metadata": {},
   "source": [
    "`get()` and `get_meta()` are also worth keeping in mind."
   ]
  },
  {
   "cell_type": "code",
   "execution_count": 27,
   "metadata": {},
   "outputs": [
    {
     "name": "stdout",
     "output_type": "stream",
     "text": [
      "file:///Users/karve/Desktop/outboy/data/atlantic-storms.csv\n",
      "{'source': 'NOAA', 'homepage': 'https://www.nhc.noaa.gov/data/'}\n"
     ]
    }
   ],
   "source": [
    "print(hurdat['data']['atlantic-storms.csv'].get())\n",
    "print(hurdat['data']['atlantic-storms.csv'].meta)"
   ]
  },
  {
   "cell_type": "markdown",
   "metadata": {},
   "source": [
    "## Browsing packages\n",
    "\n",
    "`quilt3.Package.install` will download the entire contents of a package to local memory. However, there are many cases when you do not actually want to download all of the data in the package. For example, the package may be very large, and you want only want to work with a small part of it. Or perhaps you do not need the data all; you just want to work with the metadata.\n",
    "\n",
    "We support this workflow using the `quilt3.Package.browse` command."
   ]
  },
  {
   "cell_type": "code",
   "execution_count": 28,
   "metadata": {},
   "outputs": [
    {
     "data": {
      "text/plain": [
       "(remote Package)\n",
       " └─.gitignore\n",
       " └─.quiltignore\n",
       " └─notebooks/\n",
       "   └─QuickStart.ipynb\n",
       " └─quilt_summarize.json\n",
       " └─requirements.txt\n",
       " └─scripts/\n",
       "   └─build.py"
      ]
     },
     "execution_count": 28,
     "metadata": {},
     "output_type": "execute_result"
    }
   ],
   "source": [
    "quilt3.Package.browse('aleksey/hurdat', 's3://quilt-example')"
   ]
  },
  {
   "cell_type": "markdown",
   "metadata": {},
   "source": [
    "## Helpful tips\n",
    "\n",
    "Here are some helpful tips for getting the most out of the Quilt 3 API.\n",
    "\n",
    "* You can omit the `s3://` path argument in `browse` and `install` if you configure a default catalog. This saves on typing:\n",
    "\n",
    "    ```python\n",
    "quilt3.config(default_remote_registry='s3://quilt-example')\n",
    "# this now \"just works\"\n",
    "quilt3.Package.push('examples/hurdat')\n",
    "quilt3.Package.install('examples/hurdat')\n",
    "    ```\n",
    "    \n",
    "    \n",
    "* If you create a `quilt_summarize.json` file with a list of files at the top of your package, visitors to that package's landing page will be served previews of those files. Mixing data and metadata in this way is a great way of performing \"literate data science\"!\n",
    "\n",
    "\n",
    "* `set_dir` will slurp up every file in the directory. But junk files are inevitable (looking at you, `.ipynb_checkpoints/`). You can configure which files are and aren't included by `set_dir` by creating a file named `.quiltignore`, which has the same syntax, and effect, as the familiar `.gitignore`."
   ]
  },
  {
   "cell_type": "markdown",
   "metadata": {},
   "source": [
    "## Conclusion\n",
    "\n",
    "That concludes this short demo!\n",
    "\n",
    "Another great resoure for getting started with API is our [official documentation](https://docs.quiltdata.com/).\n",
    "\n",
    "For help getting started with our web interface, the Quilt 3 Catalog, [check out our demo catalog](http://open.quiltdata.com/), and also take a look at the [corresponding section of our docs](https://docs.quiltdata.com/walkthrough/working-with-the-catalog)."
   ]
  },
  {
   "cell_type": "code",
   "execution_count": null,
   "metadata": {},
   "outputs": [],
   "source": []
  }
 ],
 "metadata": {
  "kernelspec": {
   "display_name": "Python 3",
   "language": "python",
   "name": "python3"
  },
  "language_info": {
   "codemirror_mode": {
    "name": "ipython",
    "version": 3
   },
   "file_extension": ".py",
   "mimetype": "text/x-python",
   "name": "python",
   "nbconvert_exporter": "python",
   "pygments_lexer": "ipython3",
   "version": "3.6.7"
  }
 },
 "nbformat": 4,
 "nbformat_minor": 2
}
